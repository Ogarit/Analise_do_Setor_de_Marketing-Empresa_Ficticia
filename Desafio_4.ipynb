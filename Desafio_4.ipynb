{
  "cells": [
    {
      "cell_type": "markdown",
      "metadata": {
        "id": "Zuj1pl7x_K0H"
      },
      "source": [
        "# Análise do setor de marketing de uma empresa X\n",
        "\n",
        "Essa análise tem o objetivo de demonstrar as relações entre os investimentos de marketing em três meios de comunicação (Youtube, Facebook e Jornal) e seu redimento, iremos observar se a empresa está tendo retornos lucrativos e quais os melhores investimentos.<br>\n",
        "No final desta análise treinaremos um modelo de Regressão para identificar os possíveis retornos para diferentes variáveis de investimento."
      ]
    },
    {
      "cell_type": "markdown",
      "metadata": {
        "id": "I_bkGnXE_K0K"
      },
      "source": [
        "# Importando o Dataset\n",
        "\n",
        "Para essa análise será utilizado um dataset em formato csv, de nome MKT disponibilisado no desafio 4 do Curso de Data Science da Escola DNC."
      ]
    },
    {
      "cell_type": "code",
      "execution_count": 1,
      "metadata": {
        "id": "isrRoTCc_K0L"
      },
      "outputs": [],
      "source": [
        "# Importando a biblioteca pandas\n",
        "import pandas as pd"
      ]
    },
    {
      "cell_type": "code",
      "execution_count": 2,
      "metadata": {
        "id": "yF_3fnMX_K0L"
      },
      "outputs": [],
      "source": [
        "# Lendo o arquivo CSV\n",
        "df = pd.read_csv('MKT.csv', delimiter=',')"
      ]
    },
    {
      "cell_type": "markdown",
      "metadata": {
        "id": "L0mcxzSq_K0M"
      },
      "source": [
        "# Análise Descritiva"
      ]
    },
    {
      "cell_type": "code",
      "execution_count": 3,
      "metadata": {
        "id": "jmbnDxLM_K0M",
        "colab": {
          "base_uri": "https://localhost:8080/",
          "height": 206
        },
        "outputId": "ec8e99bc-1637-44f1-dbf8-85a3b0100e12"
      },
      "outputs": [
        {
          "output_type": "execute_result",
          "data": {
            "text/plain": [
              "   youtube  facebook  newspaper  sales\n",
              "0    84.72     19.20      48.96  12.60\n",
              "1   351.48     33.96      51.84  25.68\n",
              "2   135.48     20.88      46.32  14.28\n",
              "3   116.64      1.80      36.00  11.52\n",
              "4   318.72     24.00       0.36  20.88"
            ],
            "text/html": [
              "\n",
              "  <div id=\"df-7fe1d0e5-bbb0-4eb3-be7d-bfa9ebffd4c1\" class=\"colab-df-container\">\n",
              "    <div>\n",
              "<style scoped>\n",
              "    .dataframe tbody tr th:only-of-type {\n",
              "        vertical-align: middle;\n",
              "    }\n",
              "\n",
              "    .dataframe tbody tr th {\n",
              "        vertical-align: top;\n",
              "    }\n",
              "\n",
              "    .dataframe thead th {\n",
              "        text-align: right;\n",
              "    }\n",
              "</style>\n",
              "<table border=\"1\" class=\"dataframe\">\n",
              "  <thead>\n",
              "    <tr style=\"text-align: right;\">\n",
              "      <th></th>\n",
              "      <th>youtube</th>\n",
              "      <th>facebook</th>\n",
              "      <th>newspaper</th>\n",
              "      <th>sales</th>\n",
              "    </tr>\n",
              "  </thead>\n",
              "  <tbody>\n",
              "    <tr>\n",
              "      <th>0</th>\n",
              "      <td>84.72</td>\n",
              "      <td>19.20</td>\n",
              "      <td>48.96</td>\n",
              "      <td>12.60</td>\n",
              "    </tr>\n",
              "    <tr>\n",
              "      <th>1</th>\n",
              "      <td>351.48</td>\n",
              "      <td>33.96</td>\n",
              "      <td>51.84</td>\n",
              "      <td>25.68</td>\n",
              "    </tr>\n",
              "    <tr>\n",
              "      <th>2</th>\n",
              "      <td>135.48</td>\n",
              "      <td>20.88</td>\n",
              "      <td>46.32</td>\n",
              "      <td>14.28</td>\n",
              "    </tr>\n",
              "    <tr>\n",
              "      <th>3</th>\n",
              "      <td>116.64</td>\n",
              "      <td>1.80</td>\n",
              "      <td>36.00</td>\n",
              "      <td>11.52</td>\n",
              "    </tr>\n",
              "    <tr>\n",
              "      <th>4</th>\n",
              "      <td>318.72</td>\n",
              "      <td>24.00</td>\n",
              "      <td>0.36</td>\n",
              "      <td>20.88</td>\n",
              "    </tr>\n",
              "  </tbody>\n",
              "</table>\n",
              "</div>\n",
              "    <div class=\"colab-df-buttons\">\n",
              "\n",
              "  <div class=\"colab-df-container\">\n",
              "    <button class=\"colab-df-convert\" onclick=\"convertToInteractive('df-7fe1d0e5-bbb0-4eb3-be7d-bfa9ebffd4c1')\"\n",
              "            title=\"Convert this dataframe to an interactive table.\"\n",
              "            style=\"display:none;\">\n",
              "\n",
              "  <svg xmlns=\"http://www.w3.org/2000/svg\" height=\"24px\" viewBox=\"0 -960 960 960\">\n",
              "    <path d=\"M120-120v-720h720v720H120Zm60-500h600v-160H180v160Zm220 220h160v-160H400v160Zm0 220h160v-160H400v160ZM180-400h160v-160H180v160Zm440 0h160v-160H620v160ZM180-180h160v-160H180v160Zm440 0h160v-160H620v160Z\"/>\n",
              "  </svg>\n",
              "    </button>\n",
              "\n",
              "  <style>\n",
              "    .colab-df-container {\n",
              "      display:flex;\n",
              "      gap: 12px;\n",
              "    }\n",
              "\n",
              "    .colab-df-convert {\n",
              "      background-color: #E8F0FE;\n",
              "      border: none;\n",
              "      border-radius: 50%;\n",
              "      cursor: pointer;\n",
              "      display: none;\n",
              "      fill: #1967D2;\n",
              "      height: 32px;\n",
              "      padding: 0 0 0 0;\n",
              "      width: 32px;\n",
              "    }\n",
              "\n",
              "    .colab-df-convert:hover {\n",
              "      background-color: #E2EBFA;\n",
              "      box-shadow: 0px 1px 2px rgba(60, 64, 67, 0.3), 0px 1px 3px 1px rgba(60, 64, 67, 0.15);\n",
              "      fill: #174EA6;\n",
              "    }\n",
              "\n",
              "    .colab-df-buttons div {\n",
              "      margin-bottom: 4px;\n",
              "    }\n",
              "\n",
              "    [theme=dark] .colab-df-convert {\n",
              "      background-color: #3B4455;\n",
              "      fill: #D2E3FC;\n",
              "    }\n",
              "\n",
              "    [theme=dark] .colab-df-convert:hover {\n",
              "      background-color: #434B5C;\n",
              "      box-shadow: 0px 1px 3px 1px rgba(0, 0, 0, 0.15);\n",
              "      filter: drop-shadow(0px 1px 2px rgba(0, 0, 0, 0.3));\n",
              "      fill: #FFFFFF;\n",
              "    }\n",
              "  </style>\n",
              "\n",
              "    <script>\n",
              "      const buttonEl =\n",
              "        document.querySelector('#df-7fe1d0e5-bbb0-4eb3-be7d-bfa9ebffd4c1 button.colab-df-convert');\n",
              "      buttonEl.style.display =\n",
              "        google.colab.kernel.accessAllowed ? 'block' : 'none';\n",
              "\n",
              "      async function convertToInteractive(key) {\n",
              "        const element = document.querySelector('#df-7fe1d0e5-bbb0-4eb3-be7d-bfa9ebffd4c1');\n",
              "        const dataTable =\n",
              "          await google.colab.kernel.invokeFunction('convertToInteractive',\n",
              "                                                    [key], {});\n",
              "        if (!dataTable) return;\n",
              "\n",
              "        const docLinkHtml = 'Like what you see? Visit the ' +\n",
              "          '<a target=\"_blank\" href=https://colab.research.google.com/notebooks/data_table.ipynb>data table notebook</a>'\n",
              "          + ' to learn more about interactive tables.';\n",
              "        element.innerHTML = '';\n",
              "        dataTable['output_type'] = 'display_data';\n",
              "        await google.colab.output.renderOutput(dataTable, element);\n",
              "        const docLink = document.createElement('div');\n",
              "        docLink.innerHTML = docLinkHtml;\n",
              "        element.appendChild(docLink);\n",
              "      }\n",
              "    </script>\n",
              "  </div>\n",
              "\n",
              "\n",
              "<div id=\"df-de56a61d-93f4-41f6-bd98-bcd96cd22d9c\">\n",
              "  <button class=\"colab-df-quickchart\" onclick=\"quickchart('df-de56a61d-93f4-41f6-bd98-bcd96cd22d9c')\"\n",
              "            title=\"Suggest charts\"\n",
              "            style=\"display:none;\">\n",
              "\n",
              "<svg xmlns=\"http://www.w3.org/2000/svg\" height=\"24px\"viewBox=\"0 0 24 24\"\n",
              "     width=\"24px\">\n",
              "    <g>\n",
              "        <path d=\"M19 3H5c-1.1 0-2 .9-2 2v14c0 1.1.9 2 2 2h14c1.1 0 2-.9 2-2V5c0-1.1-.9-2-2-2zM9 17H7v-7h2v7zm4 0h-2V7h2v10zm4 0h-2v-4h2v4z\"/>\n",
              "    </g>\n",
              "</svg>\n",
              "  </button>\n",
              "\n",
              "<style>\n",
              "  .colab-df-quickchart {\n",
              "      --bg-color: #E8F0FE;\n",
              "      --fill-color: #1967D2;\n",
              "      --hover-bg-color: #E2EBFA;\n",
              "      --hover-fill-color: #174EA6;\n",
              "      --disabled-fill-color: #AAA;\n",
              "      --disabled-bg-color: #DDD;\n",
              "  }\n",
              "\n",
              "  [theme=dark] .colab-df-quickchart {\n",
              "      --bg-color: #3B4455;\n",
              "      --fill-color: #D2E3FC;\n",
              "      --hover-bg-color: #434B5C;\n",
              "      --hover-fill-color: #FFFFFF;\n",
              "      --disabled-bg-color: #3B4455;\n",
              "      --disabled-fill-color: #666;\n",
              "  }\n",
              "\n",
              "  .colab-df-quickchart {\n",
              "    background-color: var(--bg-color);\n",
              "    border: none;\n",
              "    border-radius: 50%;\n",
              "    cursor: pointer;\n",
              "    display: none;\n",
              "    fill: var(--fill-color);\n",
              "    height: 32px;\n",
              "    padding: 0;\n",
              "    width: 32px;\n",
              "  }\n",
              "\n",
              "  .colab-df-quickchart:hover {\n",
              "    background-color: var(--hover-bg-color);\n",
              "    box-shadow: 0 1px 2px rgba(60, 64, 67, 0.3), 0 1px 3px 1px rgba(60, 64, 67, 0.15);\n",
              "    fill: var(--button-hover-fill-color);\n",
              "  }\n",
              "\n",
              "  .colab-df-quickchart-complete:disabled,\n",
              "  .colab-df-quickchart-complete:disabled:hover {\n",
              "    background-color: var(--disabled-bg-color);\n",
              "    fill: var(--disabled-fill-color);\n",
              "    box-shadow: none;\n",
              "  }\n",
              "\n",
              "  .colab-df-spinner {\n",
              "    border: 2px solid var(--fill-color);\n",
              "    border-color: transparent;\n",
              "    border-bottom-color: var(--fill-color);\n",
              "    animation:\n",
              "      spin 1s steps(1) infinite;\n",
              "  }\n",
              "\n",
              "  @keyframes spin {\n",
              "    0% {\n",
              "      border-color: transparent;\n",
              "      border-bottom-color: var(--fill-color);\n",
              "      border-left-color: var(--fill-color);\n",
              "    }\n",
              "    20% {\n",
              "      border-color: transparent;\n",
              "      border-left-color: var(--fill-color);\n",
              "      border-top-color: var(--fill-color);\n",
              "    }\n",
              "    30% {\n",
              "      border-color: transparent;\n",
              "      border-left-color: var(--fill-color);\n",
              "      border-top-color: var(--fill-color);\n",
              "      border-right-color: var(--fill-color);\n",
              "    }\n",
              "    40% {\n",
              "      border-color: transparent;\n",
              "      border-right-color: var(--fill-color);\n",
              "      border-top-color: var(--fill-color);\n",
              "    }\n",
              "    60% {\n",
              "      border-color: transparent;\n",
              "      border-right-color: var(--fill-color);\n",
              "    }\n",
              "    80% {\n",
              "      border-color: transparent;\n",
              "      border-right-color: var(--fill-color);\n",
              "      border-bottom-color: var(--fill-color);\n",
              "    }\n",
              "    90% {\n",
              "      border-color: transparent;\n",
              "      border-bottom-color: var(--fill-color);\n",
              "    }\n",
              "  }\n",
              "</style>\n",
              "\n",
              "  <script>\n",
              "    async function quickchart(key) {\n",
              "      const quickchartButtonEl =\n",
              "        document.querySelector('#' + key + ' button');\n",
              "      quickchartButtonEl.disabled = true;  // To prevent multiple clicks.\n",
              "      quickchartButtonEl.classList.add('colab-df-spinner');\n",
              "      try {\n",
              "        const charts = await google.colab.kernel.invokeFunction(\n",
              "            'suggestCharts', [key], {});\n",
              "      } catch (error) {\n",
              "        console.error('Error during call to suggestCharts:', error);\n",
              "      }\n",
              "      quickchartButtonEl.classList.remove('colab-df-spinner');\n",
              "      quickchartButtonEl.classList.add('colab-df-quickchart-complete');\n",
              "    }\n",
              "    (() => {\n",
              "      let quickchartButtonEl =\n",
              "        document.querySelector('#df-de56a61d-93f4-41f6-bd98-bcd96cd22d9c button');\n",
              "      quickchartButtonEl.style.display =\n",
              "        google.colab.kernel.accessAllowed ? 'block' : 'none';\n",
              "    })();\n",
              "  </script>\n",
              "</div>\n",
              "\n",
              "    </div>\n",
              "  </div>\n"
            ],
            "application/vnd.google.colaboratory.intrinsic+json": {
              "type": "dataframe",
              "variable_name": "df",
              "summary": "{\n  \"name\": \"df\",\n  \"rows\": 171,\n  \"fields\": [\n    {\n      \"column\": \"youtube\",\n      \"properties\": {\n        \"dtype\": \"number\",\n        \"std\": 102.4495973927876,\n        \"min\": 0.84,\n        \"max\": 355.68,\n        \"num_unique_values\": 165,\n        \"samples\": [\n          258.48,\n          291.84,\n          140.64\n        ],\n        \"semantic_type\": \"\",\n        \"description\": \"\"\n      }\n    },\n    {\n      \"column\": \"facebook\",\n      \"properties\": {\n        \"dtype\": \"number\",\n        \"std\": 17.91353150614562,\n        \"min\": 0.0,\n        \"max\": 59.52,\n        \"num_unique_values\": 145,\n        \"samples\": [\n          55.68,\n          12.96,\n          23.04\n        ],\n        \"semantic_type\": \"\",\n        \"description\": \"\"\n      }\n    },\n    {\n      \"column\": \"newspaper\",\n      \"properties\": {\n        \"dtype\": \"number\",\n        \"std\": 24.90291775959549,\n        \"min\": 0.36,\n        \"max\": 121.08,\n        \"num_unique_values\": 148,\n        \"samples\": [\n          7.68,\n          44.28,\n          31.92\n        ],\n        \"semantic_type\": \"\",\n        \"description\": \"\"\n      }\n    },\n    {\n      \"column\": \"sales\",\n      \"properties\": {\n        \"dtype\": \"number\",\n        \"std\": 6.314607645876522,\n        \"min\": 1.92,\n        \"max\": 32.4,\n        \"num_unique_values\": 112,\n        \"samples\": [\n          21.96,\n          18.6,\n          20.88\n        ],\n        \"semantic_type\": \"\",\n        \"description\": \"\"\n      }\n    }\n  ]\n}"
            }
          },
          "metadata": {},
          "execution_count": 3
        }
      ],
      "source": [
        "# Visualizando o dataset\n",
        "df.head()"
      ]
    },
    {
      "cell_type": "code",
      "execution_count": 4,
      "metadata": {
        "id": "CEAlHFxL_K0O"
      },
      "outputs": [],
      "source": [
        "# Criando nova coluna do total investido\n",
        "df['total_investment'] = df['youtube'] + df['facebook'] + df['newspaper']"
      ]
    },
    {
      "cell_type": "code",
      "execution_count": 5,
      "metadata": {
        "id": "7VJR206B_K0P",
        "colab": {
          "base_uri": "https://localhost:8080/"
        },
        "outputId": "effe1b33-82b7-4b57-f494-20ad88039aae"
      },
      "outputs": [
        {
          "output_type": "stream",
          "name": "stdout",
          "text": [
            "<class 'pandas.core.frame.DataFrame'>\n",
            "RangeIndex: 171 entries, 0 to 170\n",
            "Data columns (total 5 columns):\n",
            " #   Column            Non-Null Count  Dtype  \n",
            "---  ------            --------------  -----  \n",
            " 0   youtube           171 non-null    float64\n",
            " 1   facebook          171 non-null    float64\n",
            " 2   newspaper         171 non-null    float64\n",
            " 3   sales             171 non-null    float64\n",
            " 4   total_investment  171 non-null    float64\n",
            "dtypes: float64(5)\n",
            "memory usage: 6.8 KB\n"
          ]
        }
      ],
      "source": [
        "# Verificando as informações das colunas\n",
        "df.info()"
      ]
    },
    {
      "cell_type": "code",
      "execution_count": 6,
      "metadata": {
        "id": "5nCmDj4h_K0P",
        "colab": {
          "base_uri": "https://localhost:8080/",
          "height": 300
        },
        "outputId": "cca4e411-214e-446b-d77b-1cbb09de9948"
      },
      "outputs": [
        {
          "output_type": "execute_result",
          "data": {
            "text/plain": [
              "          youtube    facebook   newspaper       sales  total_investment\n",
              "count  171.000000  171.000000  171.000000  171.000000        171.000000\n",
              "mean   178.021053   27.671579   35.240000   16.922807        240.932632\n",
              "std    102.449597   17.913532   24.902918    6.314608        112.167551\n",
              "min      0.840000    0.000000    0.360000    1.920000         25.680000\n",
              "25%     91.080000   11.700000   13.740000   12.540000        146.820000\n",
              "50%    179.760000   26.760000   31.080000   15.480000        248.400000\n",
              "75%    262.980000   43.680000   50.880000   20.820000        337.740000\n",
              "max    355.680000   59.520000  121.080000   32.400000        520.320000"
            ],
            "text/html": [
              "\n",
              "  <div id=\"df-e6182beb-5daf-40aa-9dc4-8b69b70097d7\" class=\"colab-df-container\">\n",
              "    <div>\n",
              "<style scoped>\n",
              "    .dataframe tbody tr th:only-of-type {\n",
              "        vertical-align: middle;\n",
              "    }\n",
              "\n",
              "    .dataframe tbody tr th {\n",
              "        vertical-align: top;\n",
              "    }\n",
              "\n",
              "    .dataframe thead th {\n",
              "        text-align: right;\n",
              "    }\n",
              "</style>\n",
              "<table border=\"1\" class=\"dataframe\">\n",
              "  <thead>\n",
              "    <tr style=\"text-align: right;\">\n",
              "      <th></th>\n",
              "      <th>youtube</th>\n",
              "      <th>facebook</th>\n",
              "      <th>newspaper</th>\n",
              "      <th>sales</th>\n",
              "      <th>total_investment</th>\n",
              "    </tr>\n",
              "  </thead>\n",
              "  <tbody>\n",
              "    <tr>\n",
              "      <th>count</th>\n",
              "      <td>171.000000</td>\n",
              "      <td>171.000000</td>\n",
              "      <td>171.000000</td>\n",
              "      <td>171.000000</td>\n",
              "      <td>171.000000</td>\n",
              "    </tr>\n",
              "    <tr>\n",
              "      <th>mean</th>\n",
              "      <td>178.021053</td>\n",
              "      <td>27.671579</td>\n",
              "      <td>35.240000</td>\n",
              "      <td>16.922807</td>\n",
              "      <td>240.932632</td>\n",
              "    </tr>\n",
              "    <tr>\n",
              "      <th>std</th>\n",
              "      <td>102.449597</td>\n",
              "      <td>17.913532</td>\n",
              "      <td>24.902918</td>\n",
              "      <td>6.314608</td>\n",
              "      <td>112.167551</td>\n",
              "    </tr>\n",
              "    <tr>\n",
              "      <th>min</th>\n",
              "      <td>0.840000</td>\n",
              "      <td>0.000000</td>\n",
              "      <td>0.360000</td>\n",
              "      <td>1.920000</td>\n",
              "      <td>25.680000</td>\n",
              "    </tr>\n",
              "    <tr>\n",
              "      <th>25%</th>\n",
              "      <td>91.080000</td>\n",
              "      <td>11.700000</td>\n",
              "      <td>13.740000</td>\n",
              "      <td>12.540000</td>\n",
              "      <td>146.820000</td>\n",
              "    </tr>\n",
              "    <tr>\n",
              "      <th>50%</th>\n",
              "      <td>179.760000</td>\n",
              "      <td>26.760000</td>\n",
              "      <td>31.080000</td>\n",
              "      <td>15.480000</td>\n",
              "      <td>248.400000</td>\n",
              "    </tr>\n",
              "    <tr>\n",
              "      <th>75%</th>\n",
              "      <td>262.980000</td>\n",
              "      <td>43.680000</td>\n",
              "      <td>50.880000</td>\n",
              "      <td>20.820000</td>\n",
              "      <td>337.740000</td>\n",
              "    </tr>\n",
              "    <tr>\n",
              "      <th>max</th>\n",
              "      <td>355.680000</td>\n",
              "      <td>59.520000</td>\n",
              "      <td>121.080000</td>\n",
              "      <td>32.400000</td>\n",
              "      <td>520.320000</td>\n",
              "    </tr>\n",
              "  </tbody>\n",
              "</table>\n",
              "</div>\n",
              "    <div class=\"colab-df-buttons\">\n",
              "\n",
              "  <div class=\"colab-df-container\">\n",
              "    <button class=\"colab-df-convert\" onclick=\"convertToInteractive('df-e6182beb-5daf-40aa-9dc4-8b69b70097d7')\"\n",
              "            title=\"Convert this dataframe to an interactive table.\"\n",
              "            style=\"display:none;\">\n",
              "\n",
              "  <svg xmlns=\"http://www.w3.org/2000/svg\" height=\"24px\" viewBox=\"0 -960 960 960\">\n",
              "    <path d=\"M120-120v-720h720v720H120Zm60-500h600v-160H180v160Zm220 220h160v-160H400v160Zm0 220h160v-160H400v160ZM180-400h160v-160H180v160Zm440 0h160v-160H620v160ZM180-180h160v-160H180v160Zm440 0h160v-160H620v160Z\"/>\n",
              "  </svg>\n",
              "    </button>\n",
              "\n",
              "  <style>\n",
              "    .colab-df-container {\n",
              "      display:flex;\n",
              "      gap: 12px;\n",
              "    }\n",
              "\n",
              "    .colab-df-convert {\n",
              "      background-color: #E8F0FE;\n",
              "      border: none;\n",
              "      border-radius: 50%;\n",
              "      cursor: pointer;\n",
              "      display: none;\n",
              "      fill: #1967D2;\n",
              "      height: 32px;\n",
              "      padding: 0 0 0 0;\n",
              "      width: 32px;\n",
              "    }\n",
              "\n",
              "    .colab-df-convert:hover {\n",
              "      background-color: #E2EBFA;\n",
              "      box-shadow: 0px 1px 2px rgba(60, 64, 67, 0.3), 0px 1px 3px 1px rgba(60, 64, 67, 0.15);\n",
              "      fill: #174EA6;\n",
              "    }\n",
              "\n",
              "    .colab-df-buttons div {\n",
              "      margin-bottom: 4px;\n",
              "    }\n",
              "\n",
              "    [theme=dark] .colab-df-convert {\n",
              "      background-color: #3B4455;\n",
              "      fill: #D2E3FC;\n",
              "    }\n",
              "\n",
              "    [theme=dark] .colab-df-convert:hover {\n",
              "      background-color: #434B5C;\n",
              "      box-shadow: 0px 1px 3px 1px rgba(0, 0, 0, 0.15);\n",
              "      filter: drop-shadow(0px 1px 2px rgba(0, 0, 0, 0.3));\n",
              "      fill: #FFFFFF;\n",
              "    }\n",
              "  </style>\n",
              "\n",
              "    <script>\n",
              "      const buttonEl =\n",
              "        document.querySelector('#df-e6182beb-5daf-40aa-9dc4-8b69b70097d7 button.colab-df-convert');\n",
              "      buttonEl.style.display =\n",
              "        google.colab.kernel.accessAllowed ? 'block' : 'none';\n",
              "\n",
              "      async function convertToInteractive(key) {\n",
              "        const element = document.querySelector('#df-e6182beb-5daf-40aa-9dc4-8b69b70097d7');\n",
              "        const dataTable =\n",
              "          await google.colab.kernel.invokeFunction('convertToInteractive',\n",
              "                                                    [key], {});\n",
              "        if (!dataTable) return;\n",
              "\n",
              "        const docLinkHtml = 'Like what you see? Visit the ' +\n",
              "          '<a target=\"_blank\" href=https://colab.research.google.com/notebooks/data_table.ipynb>data table notebook</a>'\n",
              "          + ' to learn more about interactive tables.';\n",
              "        element.innerHTML = '';\n",
              "        dataTable['output_type'] = 'display_data';\n",
              "        await google.colab.output.renderOutput(dataTable, element);\n",
              "        const docLink = document.createElement('div');\n",
              "        docLink.innerHTML = docLinkHtml;\n",
              "        element.appendChild(docLink);\n",
              "      }\n",
              "    </script>\n",
              "  </div>\n",
              "\n",
              "\n",
              "<div id=\"df-fddc4830-f951-40db-bd96-cd90ed1f2aa4\">\n",
              "  <button class=\"colab-df-quickchart\" onclick=\"quickchart('df-fddc4830-f951-40db-bd96-cd90ed1f2aa4')\"\n",
              "            title=\"Suggest charts\"\n",
              "            style=\"display:none;\">\n",
              "\n",
              "<svg xmlns=\"http://www.w3.org/2000/svg\" height=\"24px\"viewBox=\"0 0 24 24\"\n",
              "     width=\"24px\">\n",
              "    <g>\n",
              "        <path d=\"M19 3H5c-1.1 0-2 .9-2 2v14c0 1.1.9 2 2 2h14c1.1 0 2-.9 2-2V5c0-1.1-.9-2-2-2zM9 17H7v-7h2v7zm4 0h-2V7h2v10zm4 0h-2v-4h2v4z\"/>\n",
              "    </g>\n",
              "</svg>\n",
              "  </button>\n",
              "\n",
              "<style>\n",
              "  .colab-df-quickchart {\n",
              "      --bg-color: #E8F0FE;\n",
              "      --fill-color: #1967D2;\n",
              "      --hover-bg-color: #E2EBFA;\n",
              "      --hover-fill-color: #174EA6;\n",
              "      --disabled-fill-color: #AAA;\n",
              "      --disabled-bg-color: #DDD;\n",
              "  }\n",
              "\n",
              "  [theme=dark] .colab-df-quickchart {\n",
              "      --bg-color: #3B4455;\n",
              "      --fill-color: #D2E3FC;\n",
              "      --hover-bg-color: #434B5C;\n",
              "      --hover-fill-color: #FFFFFF;\n",
              "      --disabled-bg-color: #3B4455;\n",
              "      --disabled-fill-color: #666;\n",
              "  }\n",
              "\n",
              "  .colab-df-quickchart {\n",
              "    background-color: var(--bg-color);\n",
              "    border: none;\n",
              "    border-radius: 50%;\n",
              "    cursor: pointer;\n",
              "    display: none;\n",
              "    fill: var(--fill-color);\n",
              "    height: 32px;\n",
              "    padding: 0;\n",
              "    width: 32px;\n",
              "  }\n",
              "\n",
              "  .colab-df-quickchart:hover {\n",
              "    background-color: var(--hover-bg-color);\n",
              "    box-shadow: 0 1px 2px rgba(60, 64, 67, 0.3), 0 1px 3px 1px rgba(60, 64, 67, 0.15);\n",
              "    fill: var(--button-hover-fill-color);\n",
              "  }\n",
              "\n",
              "  .colab-df-quickchart-complete:disabled,\n",
              "  .colab-df-quickchart-complete:disabled:hover {\n",
              "    background-color: var(--disabled-bg-color);\n",
              "    fill: var(--disabled-fill-color);\n",
              "    box-shadow: none;\n",
              "  }\n",
              "\n",
              "  .colab-df-spinner {\n",
              "    border: 2px solid var(--fill-color);\n",
              "    border-color: transparent;\n",
              "    border-bottom-color: var(--fill-color);\n",
              "    animation:\n",
              "      spin 1s steps(1) infinite;\n",
              "  }\n",
              "\n",
              "  @keyframes spin {\n",
              "    0% {\n",
              "      border-color: transparent;\n",
              "      border-bottom-color: var(--fill-color);\n",
              "      border-left-color: var(--fill-color);\n",
              "    }\n",
              "    20% {\n",
              "      border-color: transparent;\n",
              "      border-left-color: var(--fill-color);\n",
              "      border-top-color: var(--fill-color);\n",
              "    }\n",
              "    30% {\n",
              "      border-color: transparent;\n",
              "      border-left-color: var(--fill-color);\n",
              "      border-top-color: var(--fill-color);\n",
              "      border-right-color: var(--fill-color);\n",
              "    }\n",
              "    40% {\n",
              "      border-color: transparent;\n",
              "      border-right-color: var(--fill-color);\n",
              "      border-top-color: var(--fill-color);\n",
              "    }\n",
              "    60% {\n",
              "      border-color: transparent;\n",
              "      border-right-color: var(--fill-color);\n",
              "    }\n",
              "    80% {\n",
              "      border-color: transparent;\n",
              "      border-right-color: var(--fill-color);\n",
              "      border-bottom-color: var(--fill-color);\n",
              "    }\n",
              "    90% {\n",
              "      border-color: transparent;\n",
              "      border-bottom-color: var(--fill-color);\n",
              "    }\n",
              "  }\n",
              "</style>\n",
              "\n",
              "  <script>\n",
              "    async function quickchart(key) {\n",
              "      const quickchartButtonEl =\n",
              "        document.querySelector('#' + key + ' button');\n",
              "      quickchartButtonEl.disabled = true;  // To prevent multiple clicks.\n",
              "      quickchartButtonEl.classList.add('colab-df-spinner');\n",
              "      try {\n",
              "        const charts = await google.colab.kernel.invokeFunction(\n",
              "            'suggestCharts', [key], {});\n",
              "      } catch (error) {\n",
              "        console.error('Error during call to suggestCharts:', error);\n",
              "      }\n",
              "      quickchartButtonEl.classList.remove('colab-df-spinner');\n",
              "      quickchartButtonEl.classList.add('colab-df-quickchart-complete');\n",
              "    }\n",
              "    (() => {\n",
              "      let quickchartButtonEl =\n",
              "        document.querySelector('#df-fddc4830-f951-40db-bd96-cd90ed1f2aa4 button');\n",
              "      quickchartButtonEl.style.display =\n",
              "        google.colab.kernel.accessAllowed ? 'block' : 'none';\n",
              "    })();\n",
              "  </script>\n",
              "</div>\n",
              "\n",
              "    </div>\n",
              "  </div>\n"
            ],
            "application/vnd.google.colaboratory.intrinsic+json": {
              "type": "dataframe",
              "summary": "{\n  \"name\": \"df\",\n  \"rows\": 8,\n  \"fields\": [\n    {\n      \"column\": \"youtube\",\n      \"properties\": {\n        \"dtype\": \"number\",\n        \"std\": 108.65943521003597,\n        \"min\": 0.84,\n        \"max\": 355.68,\n        \"num_unique_values\": 8,\n        \"samples\": [\n          178.02105263157893,\n          179.76,\n          171.0\n        ],\n        \"semantic_type\": \"\",\n        \"description\": \"\"\n      }\n    },\n    {\n      \"column\": \"facebook\",\n      \"properties\": {\n        \"dtype\": \"number\",\n        \"std\": 54.23326127147541,\n        \"min\": 0.0,\n        \"max\": 171.0,\n        \"num_unique_values\": 8,\n        \"samples\": [\n          27.67157894736842,\n          26.76,\n          171.0\n        ],\n        \"semantic_type\": \"\",\n        \"description\": \"\"\n      }\n    },\n    {\n      \"column\": \"newspaper\",\n      \"properties\": {\n        \"dtype\": \"number\",\n        \"std\": 59.02462018823664,\n        \"min\": 0.36,\n        \"max\": 171.0,\n        \"num_unique_values\": 8,\n        \"samples\": [\n          35.24,\n          31.08,\n          171.0\n        ],\n        \"semantic_type\": \"\",\n        \"description\": \"\"\n      }\n    },\n    {\n      \"column\": \"sales\",\n      \"properties\": {\n        \"dtype\": \"number\",\n        \"std\": 55.84722880876607,\n        \"min\": 1.92,\n        \"max\": 171.0,\n        \"num_unique_values\": 8,\n        \"samples\": [\n          16.922807017543857,\n          15.48,\n          171.0\n        ],\n        \"semantic_type\": \"\",\n        \"description\": \"\"\n      }\n    },\n    {\n      \"column\": \"total_investment\",\n      \"properties\": {\n        \"dtype\": \"number\",\n        \"std\": 152.2273602521278,\n        \"min\": 25.68,\n        \"max\": 520.32,\n        \"num_unique_values\": 8,\n        \"samples\": [\n          240.93263157894734,\n          248.4,\n          171.0\n        ],\n        \"semantic_type\": \"\",\n        \"description\": \"\"\n      }\n    }\n  ]\n}"
            }
          },
          "metadata": {},
          "execution_count": 6
        }
      ],
      "source": [
        "# utilizando as informações estatisticas das colunas númericas\n",
        "df.describe()"
      ]
    },
    {
      "cell_type": "code",
      "execution_count": 7,
      "metadata": {
        "id": "saFPSfv1_K0Q",
        "colab": {
          "base_uri": "https://localhost:8080/",
          "height": 206
        },
        "outputId": "336bb3cc-deb1-4e49-b51c-96e06a0f375e"
      },
      "outputs": [
        {
          "output_type": "execute_result",
          "data": {
            "text/plain": [
              "                   youtube  facebook  newspaper     sales  total_investment\n",
              "youtube           1.000000  0.086538   0.110759  0.782030          0.951773\n",
              "facebook          0.086538  1.000000   0.293425  0.602918          0.303889\n",
              "newspaper         0.110759  0.293425   1.000000  0.254987          0.370040\n",
              "sales             0.782030  0.602918   0.254987  1.000000          0.867176\n",
              "total_investment  0.951773  0.303889   0.370040  0.867176          1.000000"
            ],
            "text/html": [
              "\n",
              "  <div id=\"df-c885c912-a535-47c3-a491-5f01ce16d0fd\" class=\"colab-df-container\">\n",
              "    <div>\n",
              "<style scoped>\n",
              "    .dataframe tbody tr th:only-of-type {\n",
              "        vertical-align: middle;\n",
              "    }\n",
              "\n",
              "    .dataframe tbody tr th {\n",
              "        vertical-align: top;\n",
              "    }\n",
              "\n",
              "    .dataframe thead th {\n",
              "        text-align: right;\n",
              "    }\n",
              "</style>\n",
              "<table border=\"1\" class=\"dataframe\">\n",
              "  <thead>\n",
              "    <tr style=\"text-align: right;\">\n",
              "      <th></th>\n",
              "      <th>youtube</th>\n",
              "      <th>facebook</th>\n",
              "      <th>newspaper</th>\n",
              "      <th>sales</th>\n",
              "      <th>total_investment</th>\n",
              "    </tr>\n",
              "  </thead>\n",
              "  <tbody>\n",
              "    <tr>\n",
              "      <th>youtube</th>\n",
              "      <td>1.000000</td>\n",
              "      <td>0.086538</td>\n",
              "      <td>0.110759</td>\n",
              "      <td>0.782030</td>\n",
              "      <td>0.951773</td>\n",
              "    </tr>\n",
              "    <tr>\n",
              "      <th>facebook</th>\n",
              "      <td>0.086538</td>\n",
              "      <td>1.000000</td>\n",
              "      <td>0.293425</td>\n",
              "      <td>0.602918</td>\n",
              "      <td>0.303889</td>\n",
              "    </tr>\n",
              "    <tr>\n",
              "      <th>newspaper</th>\n",
              "      <td>0.110759</td>\n",
              "      <td>0.293425</td>\n",
              "      <td>1.000000</td>\n",
              "      <td>0.254987</td>\n",
              "      <td>0.370040</td>\n",
              "    </tr>\n",
              "    <tr>\n",
              "      <th>sales</th>\n",
              "      <td>0.782030</td>\n",
              "      <td>0.602918</td>\n",
              "      <td>0.254987</td>\n",
              "      <td>1.000000</td>\n",
              "      <td>0.867176</td>\n",
              "    </tr>\n",
              "    <tr>\n",
              "      <th>total_investment</th>\n",
              "      <td>0.951773</td>\n",
              "      <td>0.303889</td>\n",
              "      <td>0.370040</td>\n",
              "      <td>0.867176</td>\n",
              "      <td>1.000000</td>\n",
              "    </tr>\n",
              "  </tbody>\n",
              "</table>\n",
              "</div>\n",
              "    <div class=\"colab-df-buttons\">\n",
              "\n",
              "  <div class=\"colab-df-container\">\n",
              "    <button class=\"colab-df-convert\" onclick=\"convertToInteractive('df-c885c912-a535-47c3-a491-5f01ce16d0fd')\"\n",
              "            title=\"Convert this dataframe to an interactive table.\"\n",
              "            style=\"display:none;\">\n",
              "\n",
              "  <svg xmlns=\"http://www.w3.org/2000/svg\" height=\"24px\" viewBox=\"0 -960 960 960\">\n",
              "    <path d=\"M120-120v-720h720v720H120Zm60-500h600v-160H180v160Zm220 220h160v-160H400v160Zm0 220h160v-160H400v160ZM180-400h160v-160H180v160Zm440 0h160v-160H620v160ZM180-180h160v-160H180v160Zm440 0h160v-160H620v160Z\"/>\n",
              "  </svg>\n",
              "    </button>\n",
              "\n",
              "  <style>\n",
              "    .colab-df-container {\n",
              "      display:flex;\n",
              "      gap: 12px;\n",
              "    }\n",
              "\n",
              "    .colab-df-convert {\n",
              "      background-color: #E8F0FE;\n",
              "      border: none;\n",
              "      border-radius: 50%;\n",
              "      cursor: pointer;\n",
              "      display: none;\n",
              "      fill: #1967D2;\n",
              "      height: 32px;\n",
              "      padding: 0 0 0 0;\n",
              "      width: 32px;\n",
              "    }\n",
              "\n",
              "    .colab-df-convert:hover {\n",
              "      background-color: #E2EBFA;\n",
              "      box-shadow: 0px 1px 2px rgba(60, 64, 67, 0.3), 0px 1px 3px 1px rgba(60, 64, 67, 0.15);\n",
              "      fill: #174EA6;\n",
              "    }\n",
              "\n",
              "    .colab-df-buttons div {\n",
              "      margin-bottom: 4px;\n",
              "    }\n",
              "\n",
              "    [theme=dark] .colab-df-convert {\n",
              "      background-color: #3B4455;\n",
              "      fill: #D2E3FC;\n",
              "    }\n",
              "\n",
              "    [theme=dark] .colab-df-convert:hover {\n",
              "      background-color: #434B5C;\n",
              "      box-shadow: 0px 1px 3px 1px rgba(0, 0, 0, 0.15);\n",
              "      filter: drop-shadow(0px 1px 2px rgba(0, 0, 0, 0.3));\n",
              "      fill: #FFFFFF;\n",
              "    }\n",
              "  </style>\n",
              "\n",
              "    <script>\n",
              "      const buttonEl =\n",
              "        document.querySelector('#df-c885c912-a535-47c3-a491-5f01ce16d0fd button.colab-df-convert');\n",
              "      buttonEl.style.display =\n",
              "        google.colab.kernel.accessAllowed ? 'block' : 'none';\n",
              "\n",
              "      async function convertToInteractive(key) {\n",
              "        const element = document.querySelector('#df-c885c912-a535-47c3-a491-5f01ce16d0fd');\n",
              "        const dataTable =\n",
              "          await google.colab.kernel.invokeFunction('convertToInteractive',\n",
              "                                                    [key], {});\n",
              "        if (!dataTable) return;\n",
              "\n",
              "        const docLinkHtml = 'Like what you see? Visit the ' +\n",
              "          '<a target=\"_blank\" href=https://colab.research.google.com/notebooks/data_table.ipynb>data table notebook</a>'\n",
              "          + ' to learn more about interactive tables.';\n",
              "        element.innerHTML = '';\n",
              "        dataTable['output_type'] = 'display_data';\n",
              "        await google.colab.output.renderOutput(dataTable, element);\n",
              "        const docLink = document.createElement('div');\n",
              "        docLink.innerHTML = docLinkHtml;\n",
              "        element.appendChild(docLink);\n",
              "      }\n",
              "    </script>\n",
              "  </div>\n",
              "\n",
              "\n",
              "<div id=\"df-32d4d0f7-e3a3-4863-9860-4543bcd761cb\">\n",
              "  <button class=\"colab-df-quickchart\" onclick=\"quickchart('df-32d4d0f7-e3a3-4863-9860-4543bcd761cb')\"\n",
              "            title=\"Suggest charts\"\n",
              "            style=\"display:none;\">\n",
              "\n",
              "<svg xmlns=\"http://www.w3.org/2000/svg\" height=\"24px\"viewBox=\"0 0 24 24\"\n",
              "     width=\"24px\">\n",
              "    <g>\n",
              "        <path d=\"M19 3H5c-1.1 0-2 .9-2 2v14c0 1.1.9 2 2 2h14c1.1 0 2-.9 2-2V5c0-1.1-.9-2-2-2zM9 17H7v-7h2v7zm4 0h-2V7h2v10zm4 0h-2v-4h2v4z\"/>\n",
              "    </g>\n",
              "</svg>\n",
              "  </button>\n",
              "\n",
              "<style>\n",
              "  .colab-df-quickchart {\n",
              "      --bg-color: #E8F0FE;\n",
              "      --fill-color: #1967D2;\n",
              "      --hover-bg-color: #E2EBFA;\n",
              "      --hover-fill-color: #174EA6;\n",
              "      --disabled-fill-color: #AAA;\n",
              "      --disabled-bg-color: #DDD;\n",
              "  }\n",
              "\n",
              "  [theme=dark] .colab-df-quickchart {\n",
              "      --bg-color: #3B4455;\n",
              "      --fill-color: #D2E3FC;\n",
              "      --hover-bg-color: #434B5C;\n",
              "      --hover-fill-color: #FFFFFF;\n",
              "      --disabled-bg-color: #3B4455;\n",
              "      --disabled-fill-color: #666;\n",
              "  }\n",
              "\n",
              "  .colab-df-quickchart {\n",
              "    background-color: var(--bg-color);\n",
              "    border: none;\n",
              "    border-radius: 50%;\n",
              "    cursor: pointer;\n",
              "    display: none;\n",
              "    fill: var(--fill-color);\n",
              "    height: 32px;\n",
              "    padding: 0;\n",
              "    width: 32px;\n",
              "  }\n",
              "\n",
              "  .colab-df-quickchart:hover {\n",
              "    background-color: var(--hover-bg-color);\n",
              "    box-shadow: 0 1px 2px rgba(60, 64, 67, 0.3), 0 1px 3px 1px rgba(60, 64, 67, 0.15);\n",
              "    fill: var(--button-hover-fill-color);\n",
              "  }\n",
              "\n",
              "  .colab-df-quickchart-complete:disabled,\n",
              "  .colab-df-quickchart-complete:disabled:hover {\n",
              "    background-color: var(--disabled-bg-color);\n",
              "    fill: var(--disabled-fill-color);\n",
              "    box-shadow: none;\n",
              "  }\n",
              "\n",
              "  .colab-df-spinner {\n",
              "    border: 2px solid var(--fill-color);\n",
              "    border-color: transparent;\n",
              "    border-bottom-color: var(--fill-color);\n",
              "    animation:\n",
              "      spin 1s steps(1) infinite;\n",
              "  }\n",
              "\n",
              "  @keyframes spin {\n",
              "    0% {\n",
              "      border-color: transparent;\n",
              "      border-bottom-color: var(--fill-color);\n",
              "      border-left-color: var(--fill-color);\n",
              "    }\n",
              "    20% {\n",
              "      border-color: transparent;\n",
              "      border-left-color: var(--fill-color);\n",
              "      border-top-color: var(--fill-color);\n",
              "    }\n",
              "    30% {\n",
              "      border-color: transparent;\n",
              "      border-left-color: var(--fill-color);\n",
              "      border-top-color: var(--fill-color);\n",
              "      border-right-color: var(--fill-color);\n",
              "    }\n",
              "    40% {\n",
              "      border-color: transparent;\n",
              "      border-right-color: var(--fill-color);\n",
              "      border-top-color: var(--fill-color);\n",
              "    }\n",
              "    60% {\n",
              "      border-color: transparent;\n",
              "      border-right-color: var(--fill-color);\n",
              "    }\n",
              "    80% {\n",
              "      border-color: transparent;\n",
              "      border-right-color: var(--fill-color);\n",
              "      border-bottom-color: var(--fill-color);\n",
              "    }\n",
              "    90% {\n",
              "      border-color: transparent;\n",
              "      border-bottom-color: var(--fill-color);\n",
              "    }\n",
              "  }\n",
              "</style>\n",
              "\n",
              "  <script>\n",
              "    async function quickchart(key) {\n",
              "      const quickchartButtonEl =\n",
              "        document.querySelector('#' + key + ' button');\n",
              "      quickchartButtonEl.disabled = true;  // To prevent multiple clicks.\n",
              "      quickchartButtonEl.classList.add('colab-df-spinner');\n",
              "      try {\n",
              "        const charts = await google.colab.kernel.invokeFunction(\n",
              "            'suggestCharts', [key], {});\n",
              "      } catch (error) {\n",
              "        console.error('Error during call to suggestCharts:', error);\n",
              "      }\n",
              "      quickchartButtonEl.classList.remove('colab-df-spinner');\n",
              "      quickchartButtonEl.classList.add('colab-df-quickchart-complete');\n",
              "    }\n",
              "    (() => {\n",
              "      let quickchartButtonEl =\n",
              "        document.querySelector('#df-32d4d0f7-e3a3-4863-9860-4543bcd761cb button');\n",
              "      quickchartButtonEl.style.display =\n",
              "        google.colab.kernel.accessAllowed ? 'block' : 'none';\n",
              "    })();\n",
              "  </script>\n",
              "</div>\n",
              "\n",
              "    </div>\n",
              "  </div>\n"
            ],
            "application/vnd.google.colaboratory.intrinsic+json": {
              "type": "dataframe",
              "summary": "{\n  \"name\": \"df\",\n  \"rows\": 5,\n  \"fields\": [\n    {\n      \"column\": \"youtube\",\n      \"properties\": {\n        \"dtype\": \"number\",\n        \"std\": 0.45247345023366903,\n        \"min\": 0.08653838911529717,\n        \"max\": 1.0,\n        \"num_unique_values\": 5,\n        \"samples\": [\n          0.08653838911529717,\n          0.9517729182943145,\n          0.1107593897645278\n        ],\n        \"semantic_type\": \"\",\n        \"description\": \"\"\n      }\n    },\n    {\n      \"column\": \"facebook\",\n      \"properties\": {\n        \"dtype\": \"number\",\n        \"std\": 0.3548174933719103,\n        \"min\": 0.08653838911529717,\n        \"max\": 1.0,\n        \"num_unique_values\": 5,\n        \"samples\": [\n          1.0,\n          0.30388916804162996,\n          0.2934254231048905\n        ],\n        \"semantic_type\": \"\",\n        \"description\": \"\"\n      }\n    },\n    {\n      \"column\": \"newspaper\",\n      \"properties\": {\n        \"dtype\": \"number\",\n        \"std\": 0.3452441157218399,\n        \"min\": 0.1107593897645278,\n        \"max\": 1.0,\n        \"num_unique_values\": 5,\n        \"samples\": [\n          0.2934254231048905,\n          0.37003980003380826,\n          1.0\n        ],\n        \"semantic_type\": \"\",\n        \"description\": \"\"\n      }\n    },\n    {\n      \"column\": \"sales\",\n      \"properties\": {\n        \"dtype\": \"number\",\n        \"std\": 0.2881527449937746,\n        \"min\": 0.2549869780348229,\n        \"max\": 1.0,\n        \"num_unique_values\": 5,\n        \"samples\": [\n          0.6029180163242245,\n          0.8671756700408413,\n          0.2549869780348229\n        ],\n        \"semantic_type\": \"\",\n        \"description\": \"\"\n      }\n    },\n    {\n      \"column\": \"total_investment\",\n      \"properties\": {\n        \"dtype\": \"number\",\n        \"std\": 0.33432943557065997,\n        \"min\": 0.30388916804162996,\n        \"max\": 1.0,\n        \"num_unique_values\": 5,\n        \"samples\": [\n          0.30388916804162996,\n          1.0,\n          0.37003980003380826\n        ],\n        \"semantic_type\": \"\",\n        \"description\": \"\"\n      }\n    }\n  ]\n}"
            }
          },
          "metadata": {},
          "execution_count": 7
        }
      ],
      "source": [
        "# Observando a correlação entre os dados\n",
        "df.corr()"
      ]
    },
    {
      "cell_type": "markdown",
      "metadata": {
        "id": "ehFzv8Zp_K0Q"
      },
      "source": [
        "Considerando as correlações baixas se menores que 0.6:<br>\n",
        "Percebemos que os dados da coluna 'facebook' tem uma maior correlação com a coluna 'sales' e uma menor correlação com a coluna 'total_investment'.<br>\n",
        "Além disso a correlação de 'newspaper' com 'sales' é baixa."
      ]
    },
    {
      "cell_type": "markdown",
      "metadata": {
        "id": "VliDWLZ0_K0Q"
      },
      "source": [
        "Ao olhar somente estes dados inicialmente proponho que a empresa devria aumentar seus investimentos na plataforma do facebook, e diminuir no youtube.<br>\n",
        "Os investimentos no jornal, parecem estar se tornando irrelevantes em consideração aos ganhos, dessa forma poderiam ser eliminados para diminuir os gastos da empresa neste setor."
      ]
    },
    {
      "cell_type": "markdown",
      "metadata": {
        "id": "cLGCN_ht_K0Q"
      },
      "source": [
        "# Análise Exploratória\n",
        "\n",
        "Para visualização dos dados será utilizado a biblioteca Seaborn e Matplotlib.\n",
        "\n",
        "Seaborn: https://seaborn.pydata.org/tutorial.html<br>\n",
        "Matplotlib: https://matplotlib.org/stable/users/index.html"
      ]
    },
    {
      "cell_type": "code",
      "execution_count": 8,
      "metadata": {
        "id": "szRGWdXU_K0Q"
      },
      "outputs": [],
      "source": [
        "# Importando a biblioteca seaborn, a biblioteca numpy e o submodulo pyplot da biblioteca matplotlib\n",
        "import seaborn as sns\n",
        "import numpy as np\n",
        "import matplotlib.pyplot as plt"
      ]
    },
    {
      "cell_type": "code",
      "execution_count": 9,
      "metadata": {
        "id": "ptwx2zat_K0R",
        "colab": {
          "base_uri": "https://localhost:8080/",
          "height": 1000
        },
        "outputId": "43aab6eb-9090-4a3d-a3d6-e34a2f71d984"
      },
      "outputs": [
        {
          "output_type": "execute_result",
          "data": {
            "text/plain": [
              "<seaborn.axisgrid.PairGrid at 0x7d4168c1ab30>"
            ]
          },
          "metadata": {},
          "execution_count": 9
        },
        {
          "output_type": "display_data",
          "data": {
            "text/plain": [
              "<Figure size 1250x1250 with 30 Axes>"
            ],
            "image/png": "[encoded data removed]"
          },
          "metadata": {}
        }
      ],
      "source": [
        "# Visualizando a correlação entre os dados\n",
        "sns.pairplot(df)"
      ]
    },
    {
      "cell_type": "markdown",
      "metadata": {
        "id": "FkSHyU6D_K0R"
      },
      "source": [
        "Podemos perceber uma grande disperção entre os dados, exceto entre 'total_investment' e 'youtube', e entre 'sales' e 'total_investment'."
      ]
    },
    {
      "cell_type": "code",
      "execution_count": 10,
      "metadata": {
        "id": "8VwBWajM_K0R",
        "colab": {
          "base_uri": "https://localhost:8080/",
          "height": 447
        },
        "outputId": "e4b07ec4-ee5a-411b-ace3-a1ae8f73e3b6"
      },
      "outputs": [
        {
          "output_type": "execute_result",
          "data": {
            "text/plain": [
              "<Axes: >"
            ]
          },
          "metadata": {},
          "execution_count": 10
        },
        {
          "output_type": "display_data",
          "data": {
            "text/plain": [
              "<Figure size 640x480 with 1 Axes>"
            ],
            "image/png": "[encoded data removed]"
          },
          "metadata": {}
        }
      ],
      "source": [
        "# Visualizando gráfico boxplot\n",
        "df.boxplot(column=['youtube', 'facebook', 'newspaper', 'total_investment', 'sales'])"
      ]
    },
    {
      "cell_type": "markdown",
      "metadata": {
        "id": "x0YoziyK_K0R"
      },
      "source": [
        "### Tratando os outilers\n",
        "\n",
        "Para continuar a análise os outilers serão alterados para o limite.<br>\n",
        "Os outilers serão determinados de acordo com o método de Tukey."
      ]
    },
    {
      "cell_type": "code",
      "execution_count": 11,
      "metadata": {
        "id": "BGRI2su__K0R"
      },
      "outputs": [],
      "source": [
        "# Definindo o Q1 e o Q3\n",
        "Q3 = df['newspaper'].quantile(0.75)\n",
        "Q1 = df['newspaper'].quantile(0.25)"
      ]
    },
    {
      "cell_type": "code",
      "execution_count": 12,
      "metadata": {
        "id": "BHZzfz3E_K0R"
      },
      "outputs": [],
      "source": [
        "# Calculando o interquartil\n",
        "IQR = Q3 - Q1"
      ]
    },
    {
      "cell_type": "code",
      "execution_count": 13,
      "metadata": {
        "id": "-DO4PFdp_K0S"
      },
      "outputs": [],
      "source": [
        "# Calculando o limite superior e inferior\n",
        "limIn = Q1 - (IQR * 1.5)\n",
        "limSp = Q3 + (IQR * 1.5)"
      ]
    },
    {
      "cell_type": "code",
      "execution_count": 14,
      "metadata": {
        "id": "-GvIdkkl_K0S"
      },
      "outputs": [],
      "source": [
        "# Retirando os outilers do DataFrame\n",
        "df.query(f'(newspaper >= {limIn}) and (newspaper <= {limSp})', inplace=True)"
      ]
    },
    {
      "cell_type": "code",
      "execution_count": 15,
      "metadata": {
        "id": "_iqC-DVy_K0S",
        "colab": {
          "base_uri": "https://localhost:8080/",
          "height": 206
        },
        "outputId": "6571720e-47e4-4ce9-b85b-bf2464c19f7c"
      },
      "outputs": [
        {
          "output_type": "execute_result",
          "data": {
            "text/plain": [
              "                   youtube  facebook  newspaper     sales  total_investment\n",
              "youtube           1.000000  0.092200   0.110262  0.776382          0.954857\n",
              "facebook          0.092200  1.000000   0.270263  0.614581          0.303433\n",
              "newspaper         0.110262  0.270263   1.000000  0.253835          0.357040\n",
              "sales             0.776382  0.614581   0.253835  1.000000          0.864771\n",
              "total_investment  0.954857  0.303433   0.357040  0.864771          1.000000"
            ],
            "text/html": [
              "\n",
              "  <div id=\"df-f9d82ce5-d4e2-416b-8a0c-4d6f04a406ac\" class=\"colab-df-container\">\n",
              "    <div>\n",
              "<style scoped>\n",
              "    .dataframe tbody tr th:only-of-type {\n",
              "        vertical-align: middle;\n",
              "    }\n",
              "\n",
              "    .dataframe tbody tr th {\n",
              "        vertical-align: top;\n",
              "    }\n",
              "\n",
              "    .dataframe thead th {\n",
              "        text-align: right;\n",
              "    }\n",
              "</style>\n",
              "<table border=\"1\" class=\"dataframe\">\n",
              "  <thead>\n",
              "    <tr style=\"text-align: right;\">\n",
              "      <th></th>\n",
              "      <th>youtube</th>\n",
              "      <th>facebook</th>\n",
              "      <th>newspaper</th>\n",
              "      <th>sales</th>\n",
              "      <th>total_investment</th>\n",
              "    </tr>\n",
              "  </thead>\n",
              "  <tbody>\n",
              "    <tr>\n",
              "      <th>youtube</th>\n",
              "      <td>1.000000</td>\n",
              "      <td>0.092200</td>\n",
              "      <td>0.110262</td>\n",
              "      <td>0.776382</td>\n",
              "      <td>0.954857</td>\n",
              "    </tr>\n",
              "    <tr>\n",
              "      <th>facebook</th>\n",
              "      <td>0.092200</td>\n",
              "      <td>1.000000</td>\n",
              "      <td>0.270263</td>\n",
              "      <td>0.614581</td>\n",
              "      <td>0.303433</td>\n",
              "    </tr>\n",
              "    <tr>\n",
              "      <th>newspaper</th>\n",
              "      <td>0.110262</td>\n",
              "      <td>0.270263</td>\n",
              "      <td>1.000000</td>\n",
              "      <td>0.253835</td>\n",
              "      <td>0.357040</td>\n",
              "    </tr>\n",
              "    <tr>\n",
              "      <th>sales</th>\n",
              "      <td>0.776382</td>\n",
              "      <td>0.614581</td>\n",
              "      <td>0.253835</td>\n",
              "      <td>1.000000</td>\n",
              "      <td>0.864771</td>\n",
              "    </tr>\n",
              "    <tr>\n",
              "      <th>total_investment</th>\n",
              "      <td>0.954857</td>\n",
              "      <td>0.303433</td>\n",
              "      <td>0.357040</td>\n",
              "      <td>0.864771</td>\n",
              "      <td>1.000000</td>\n",
              "    </tr>\n",
              "  </tbody>\n",
              "</table>\n",
              "</div>\n",
              "    <div class=\"colab-df-buttons\">\n",
              "\n",
              "  <div class=\"colab-df-container\">\n",
              "    <button class=\"colab-df-convert\" onclick=\"convertToInteractive('df-f9d82ce5-d4e2-416b-8a0c-4d6f04a406ac')\"\n",
              "            title=\"Convert this dataframe to an interactive table.\"\n",
              "            style=\"display:none;\">\n",
              "\n",
              "  <svg xmlns=\"http://www.w3.org/2000/svg\" height=\"24px\" viewBox=\"0 -960 960 960\">\n",
              "    <path d=\"M120-120v-720h720v720H120Zm60-500h600v-160H180v160Zm220 220h160v-160H400v160Zm0 220h160v-160H400v160ZM180-400h160v-160H180v160Zm440 0h160v-160H620v160ZM180-180h160v-160H180v160Zm440 0h160v-160H620v160Z\"/>\n",
              "  </svg>\n",
              "    </button>\n",
              "\n",
              "  <style>\n",
              "    .colab-df-container {\n",
              "      display:flex;\n",
              "      gap: 12px;\n",
              "    }\n",
              "\n",
              "    .colab-df-convert {\n",
              "      background-color: #E8F0FE;\n",
              "      border: none;\n",
              "      border-radius: 50%;\n",
              "      cursor: pointer;\n",
              "      display: none;\n",
              "      fill: #1967D2;\n",
              "      height: 32px;\n",
              "      padding: 0 0 0 0;\n",
              "      width: 32px;\n",
              "    }\n",
              "\n",
              "    .colab-df-convert:hover {\n",
              "      background-color: #E2EBFA;\n",
              "      box-shadow: 0px 1px 2px rgba(60, 64, 67, 0.3), 0px 1px 3px 1px rgba(60, 64, 67, 0.15);\n",
              "      fill: #174EA6;\n",
              "    }\n",
              "\n",
              "    .colab-df-buttons div {\n",
              "      margin-bottom: 4px;\n",
              "    }\n",
              "\n",
              "    [theme=dark] .colab-df-convert {\n",
              "      background-color: #3B4455;\n",
              "      fill: #D2E3FC;\n",
              "    }\n",
              "\n",
              "    [theme=dark] .colab-df-convert:hover {\n",
              "      background-color: #434B5C;\n",
              "      box-shadow: 0px 1px 3px 1px rgba(0, 0, 0, 0.15);\n",
              "      filter: drop-shadow(0px 1px 2px rgba(0, 0, 0, 0.3));\n",
              "      fill: #FFFFFF;\n",
              "    }\n",
              "  </style>\n",
              "\n",
              "    <script>\n",
              "      const buttonEl =\n",
              "        document.querySelector('#df-f9d82ce5-d4e2-416b-8a0c-4d6f04a406ac button.colab-df-convert');\n",
              "      buttonEl.style.display =\n",
              "        google.colab.kernel.accessAllowed ? 'block' : 'none';\n",
              "\n",
              "      async function convertToInteractive(key) {\n",
              "        const element = document.querySelector('#df-f9d82ce5-d4e2-416b-8a0c-4d6f04a406ac');\n",
              "        const dataTable =\n",
              "          await google.colab.kernel.invokeFunction('convertToInteractive',\n",
              "                                                    [key], {});\n",
              "        if (!dataTable) return;\n",
              "\n",
              "        const docLinkHtml = 'Like what you see? Visit the ' +\n",
              "          '<a target=\"_blank\" href=https://colab.research.google.com/notebooks/data_table.ipynb>data table notebook</a>'\n",
              "          + ' to learn more about interactive tables.';\n",
              "        element.innerHTML = '';\n",
              "        dataTable['output_type'] = 'display_data';\n",
              "        await google.colab.output.renderOutput(dataTable, element);\n",
              "        const docLink = document.createElement('div');\n",
              "        docLink.innerHTML = docLinkHtml;\n",
              "        element.appendChild(docLink);\n",
              "      }\n",
              "    </script>\n",
              "  </div>\n",
              "\n",
              "\n",
              "<div id=\"df-29cb01c3-5685-4baf-8150-4eb196cc20d6\">\n",
              "  <button class=\"colab-df-quickchart\" onclick=\"quickchart('df-29cb01c3-5685-4baf-8150-4eb196cc20d6')\"\n",
              "            title=\"Suggest charts\"\n",
              "            style=\"display:none;\">\n",
              "\n",
              "<svg xmlns=\"http://www.w3.org/2000/svg\" height=\"24px\"viewBox=\"0 0 24 24\"\n",
              "     width=\"24px\">\n",
              "    <g>\n",
              "        <path d=\"M19 3H5c-1.1 0-2 .9-2 2v14c0 1.1.9 2 2 2h14c1.1 0 2-.9 2-2V5c0-1.1-.9-2-2-2zM9 17H7v-7h2v7zm4 0h-2V7h2v10zm4 0h-2v-4h2v4z\"/>\n",
              "    </g>\n",
              "</svg>\n",
              "  </button>\n",
              "\n",
              "<style>\n",
              "  .colab-df-quickchart {\n",
              "      --bg-color: #E8F0FE;\n",
              "      --fill-color: #1967D2;\n",
              "      --hover-bg-color: #E2EBFA;\n",
              "      --hover-fill-color: #174EA6;\n",
              "      --disabled-fill-color: #AAA;\n",
              "      --disabled-bg-color: #DDD;\n",
              "  }\n",
              "\n",
              "  [theme=dark] .colab-df-quickchart {\n",
              "      --bg-color: #3B4455;\n",
              "      --fill-color: #D2E3FC;\n",
              "      --hover-bg-color: #434B5C;\n",
              "      --hover-fill-color: #FFFFFF;\n",
              "      --disabled-bg-color: #3B4455;\n",
              "      --disabled-fill-color: #666;\n",
              "  }\n",
              "\n",
              "  .colab-df-quickchart {\n",
              "    background-color: var(--bg-color);\n",
              "    border: none;\n",
              "    border-radius: 50%;\n",
              "    cursor: pointer;\n",
              "    display: none;\n",
              "    fill: var(--fill-color);\n",
              "    height: 32px;\n",
              "    padding: 0;\n",
              "    width: 32px;\n",
              "  }\n",
              "\n",
              "  .colab-df-quickchart:hover {\n",
              "    background-color: var(--hover-bg-color);\n",
              "    box-shadow: 0 1px 2px rgba(60, 64, 67, 0.3), 0 1px 3px 1px rgba(60, 64, 67, 0.15);\n",
              "    fill: var(--button-hover-fill-color);\n",
              "  }\n",
              "\n",
              "  .colab-df-quickchart-complete:disabled,\n",
              "  .colab-df-quickchart-complete:disabled:hover {\n",
              "    background-color: var(--disabled-bg-color);\n",
              "    fill: var(--disabled-fill-color);\n",
              "    box-shadow: none;\n",
              "  }\n",
              "\n",
              "  .colab-df-spinner {\n",
              "    border: 2px solid var(--fill-color);\n",
              "    border-color: transparent;\n",
              "    border-bottom-color: var(--fill-color);\n",
              "    animation:\n",
              "      spin 1s steps(1) infinite;\n",
              "  }\n",
              "\n",
              "  @keyframes spin {\n",
              "    0% {\n",
              "      border-color: transparent;\n",
              "      border-bottom-color: var(--fill-color);\n",
              "      border-left-color: var(--fill-color);\n",
              "    }\n",
              "    20% {\n",
              "      border-color: transparent;\n",
              "      border-left-color: var(--fill-color);\n",
              "      border-top-color: var(--fill-color);\n",
              "    }\n",
              "    30% {\n",
              "      border-color: transparent;\n",
              "      border-left-color: var(--fill-color);\n",
              "      border-top-color: var(--fill-color);\n",
              "      border-right-color: var(--fill-color);\n",
              "    }\n",
              "    40% {\n",
              "      border-color: transparent;\n",
              "      border-right-color: var(--fill-color);\n",
              "      border-top-color: var(--fill-color);\n",
              "    }\n",
              "    60% {\n",
              "      border-color: transparent;\n",
              "      border-right-color: var(--fill-color);\n",
              "    }\n",
              "    80% {\n",
              "      border-color: transparent;\n",
              "      border-right-color: var(--fill-color);\n",
              "      border-bottom-color: var(--fill-color);\n",
              "    }\n",
              "    90% {\n",
              "      border-color: transparent;\n",
              "      border-bottom-color: var(--fill-color);\n",
              "    }\n",
              "  }\n",
              "</style>\n",
              "\n",
              "  <script>\n",
              "    async function quickchart(key) {\n",
              "      const quickchartButtonEl =\n",
              "        document.querySelector('#' + key + ' button');\n",
              "      quickchartButtonEl.disabled = true;  // To prevent multiple clicks.\n",
              "      quickchartButtonEl.classList.add('colab-df-spinner');\n",
              "      try {\n",
              "        const charts = await google.colab.kernel.invokeFunction(\n",
              "            'suggestCharts', [key], {});\n",
              "      } catch (error) {\n",
              "        console.error('Error during call to suggestCharts:', error);\n",
              "      }\n",
              "      quickchartButtonEl.classList.remove('colab-df-spinner');\n",
              "      quickchartButtonEl.classList.add('colab-df-quickchart-complete');\n",
              "    }\n",
              "    (() => {\n",
              "      let quickchartButtonEl =\n",
              "        document.querySelector('#df-29cb01c3-5685-4baf-8150-4eb196cc20d6 button');\n",
              "      quickchartButtonEl.style.display =\n",
              "        google.colab.kernel.accessAllowed ? 'block' : 'none';\n",
              "    })();\n",
              "  </script>\n",
              "</div>\n",
              "\n",
              "    </div>\n",
              "  </div>\n"
            ],
            "application/vnd.google.colaboratory.intrinsic+json": {
              "type": "dataframe",
              "summary": "{\n  \"name\": \"df\",\n  \"rows\": 5,\n  \"fields\": [\n    {\n      \"column\": \"youtube\",\n      \"properties\": {\n        \"dtype\": \"number\",\n        \"std\": 0.45107078599842837,\n        \"min\": 0.09219966230103914,\n        \"max\": 1.0,\n        \"num_unique_values\": 5,\n        \"samples\": [\n          0.09219966230103914,\n          0.9548565228867254,\n          0.11026171196247773\n        ],\n        \"semantic_type\": \"\",\n        \"description\": \"\"\n      }\n    },\n    {\n      \"column\": \"facebook\",\n      \"properties\": {\n        \"dtype\": \"number\",\n        \"std\": 0.35749451375174734,\n        \"min\": 0.09219966230103914,\n        \"max\": 1.0,\n        \"num_unique_values\": 5,\n        \"samples\": [\n          1.0,\n          0.30343324105549396,\n          0.2702630290536315\n        ],\n        \"semantic_type\": \"\",\n        \"description\": \"\"\n      }\n    },\n    {\n      \"column\": \"newspaper\",\n      \"properties\": {\n        \"dtype\": \"number\",\n        \"std\": 0.34784147972008084,\n        \"min\": 0.11026171196247773,\n        \"max\": 1.0,\n        \"num_unique_values\": 5,\n        \"samples\": [\n          0.2702630290536315,\n          0.3570402100628019,\n          1.0\n        ],\n        \"semantic_type\": \"\",\n        \"description\": \"\"\n      }\n    },\n    {\n      \"column\": \"sales\",\n      \"properties\": {\n        \"dtype\": \"number\",\n        \"std\": 0.2869340614681898,\n        \"min\": 0.25383546986111105,\n        \"max\": 1.0,\n        \"num_unique_values\": 5,\n        \"samples\": [\n          0.61458067618882,\n          0.8647709592488715,\n          0.25383546986111105\n        ],\n        \"semantic_type\": \"\",\n        \"description\": \"\"\n      }\n    },\n    {\n      \"column\": \"total_investment\",\n      \"properties\": {\n        \"dtype\": \"number\",\n        \"std\": 0.3379751224246206,\n        \"min\": 0.30343324105549396,\n        \"max\": 1.0,\n        \"num_unique_values\": 5,\n        \"samples\": [\n          0.30343324105549396,\n          1.0,\n          0.3570402100628019\n        ],\n        \"semantic_type\": \"\",\n        \"description\": \"\"\n      }\n    }\n  ]\n}"
            }
          },
          "metadata": {},
          "execution_count": 15
        }
      ],
      "source": [
        "# Revisando novamente as correlações\n",
        "df.corr()"
      ]
    },
    {
      "cell_type": "code",
      "execution_count": 16,
      "metadata": {
        "id": "0ddIp5Az_K0S",
        "colab": {
          "base_uri": "https://localhost:8080/",
          "height": 448
        },
        "outputId": "22b77a37-a4cd-45c5-be5a-7a5e31202663"
      },
      "outputs": [
        {
          "output_type": "execute_result",
          "data": {
            "text/plain": [
              "<Axes: >"
            ]
          },
          "metadata": {},
          "execution_count": 16
        },
        {
          "output_type": "display_data",
          "data": {
            "text/plain": [
              "<Figure size 640x480 with 1 Axes>"
            ],
            "image/png": "[encoded data removed]"
          },
          "metadata": {}
        }
      ],
      "source": [
        "# Visualizando gráfico boxplot\n",
        "df.boxplot(column=['youtube', 'facebook', 'newspaper', 'total_investment', 'sales'])"
      ]
    },
    {
      "cell_type": "code",
      "execution_count": 17,
      "metadata": {
        "id": "uLL5rhrD_K0S"
      },
      "outputs": [],
      "source": [
        "# Armazenando o total individual de cada investimento e do retorno\n",
        "youtube_total = df['youtube'].sum()\n",
        "facebook_total = df['facebook'].sum()\n",
        "newspaper_total = df['newspaper'].sum()\n",
        "sales_total = df['sales'].sum()\n",
        "total = df['total_investment'].sum()"
      ]
    },
    {
      "cell_type": "code",
      "execution_count": 18,
      "metadata": {
        "id": "-mrV00vj_K0S"
      },
      "outputs": [],
      "source": [
        "# Organizando os dados para o gráfico\n",
        "height = [float(youtube_total), float(facebook_total), float(newspaper_total), float(sales_total), float(total)]\n",
        "bars = ('youtube', 'facebook', 'newspaper', 'sales', 'total_investment')\n",
        "y_pos = np.arange(len(bars))"
      ]
    },
    {
      "cell_type": "code",
      "execution_count": 19,
      "metadata": {
        "id": "tT585XWW_K0S",
        "colab": {
          "base_uri": "https://localhost:8080/",
          "height": 430
        },
        "outputId": "5a63cf3a-aba7-4c6b-a898-6d25d24f69a0"
      },
      "outputs": [
        {
          "output_type": "display_data",
          "data": {
            "text/plain": [
              "<Figure size 640x480 with 1 Axes>"
            ],
            "image/png": "[encoded data removed]"
          },
          "metadata": {}
        }
      ],
      "source": [
        "# Visualizando gráico de barras com os investimentos e o rendimento\n",
        "plt.bar(y_pos, height)\n",
        "plt.xticks(y_pos, bars)\n",
        "plt.show()"
      ]
    },
    {
      "cell_type": "markdown",
      "metadata": {
        "id": "xoMerAqB_K0T"
      },
      "source": [
        "O gráfico nos mostra que os investimentos tem ultrapassado e muito o retorno, assim vemos que não está existindo um lucro para a empresa."
      ]
    },
    {
      "cell_type": "markdown",
      "metadata": {
        "id": "uWhsor0d_K0T"
      },
      "source": [
        "# Modelagem\n",
        "\n",
        "Nesta etapa utilizarei a funções LinearRegression e DecisionTreeRegressor da biblioteca Scikit-Learn, e a função XGBRegressor da biblioteca XGBoost para predizer os dados de 'sales' a partir das variaveis dos investimentos, a métrica que será utilizada para determinar qual o melhor modelo será o RMSE.\n",
        "\n",
        "LinearRegression: https://scikit-learn.org/stable/modules/generated/sklearn.linear_model.LinearRegression.html#sklearn.linear_model.LinearRegression<br>\n",
        "DecisionTreeRegressor: https://scikit-learn.org/stable/modules/generated/sklearn.tree.DecisionTreeRegressor.html#sklearn.tree.DecisionTreeRegressor<br>\n",
        "XGBRegressor: https://xgboost.readthedocs.io/en/stable/python/python_api.html"
      ]
    },
    {
      "cell_type": "code",
      "execution_count": 20,
      "metadata": {
        "id": "wWol04_i_K0T"
      },
      "outputs": [],
      "source": [
        "# Importando a biblioteca sklearn e a biblioteca XGBoost\n",
        "from sklearn.model_selection import train_test_split, GridSearchCV\n",
        "from sklearn.linear_model import LinearRegression\n",
        "from sklearn.tree import DecisionTreeRegressor\n",
        "from xgboost import XGBRegressor\n",
        "from sklearn.metrics import mean_squared_error"
      ]
    },
    {
      "cell_type": "code",
      "execution_count": 21,
      "metadata": {
        "id": "2MgmON_y_K0T"
      },
      "outputs": [],
      "source": [
        "# Separando a data X e o target y\n",
        "X = df[['youtube', 'facebook', 'newspaper']]\n",
        "y = df['sales']"
      ]
    },
    {
      "cell_type": "code",
      "execution_count": 22,
      "metadata": {
        "id": "VFxjn9oE_K0T"
      },
      "outputs": [],
      "source": [
        "# Separando massa de treino e massa de teste\n",
        "X_train, X_test, y_train, y_test = train_test_split(X, y, train_size=0.75, test_size=0.25, random_state=50)"
      ]
    },
    {
      "cell_type": "code",
      "execution_count": 23,
      "metadata": {
        "id": "1f1gd4SN_K0T"
      },
      "outputs": [],
      "source": [
        "# Preparandoo 1º modelo com LinearRegression\n",
        "linearModel = LinearRegression()"
      ]
    },
    {
      "cell_type": "code",
      "execution_count": 24,
      "metadata": {
        "id": "oRRrY-Qx_K0T"
      },
      "outputs": [],
      "source": [
        "# Treinando o 1º modelo\n",
        "linearTrained = linearModel.fit(X_train, y_train)"
      ]
    },
    {
      "cell_type": "code",
      "execution_count": 25,
      "metadata": {
        "id": "eV9cgJHB_K0T"
      },
      "outputs": [],
      "source": [
        "# Testando o 1º modelo\n",
        "linearPredict = linearTrained.predict(X_test)"
      ]
    },
    {
      "cell_type": "code",
      "execution_count": 26,
      "metadata": {
        "id": "Z8t3Hh2-_K0T",
        "colab": {
          "base_uri": "https://localhost:8080/"
        },
        "outputId": "2826db17-5a22-4889-facb-6721f4940598"
      },
      "outputs": [
        {
          "output_type": "execute_result",
          "data": {
            "text/plain": [
              "1.8316085212241064"
            ]
          },
          "metadata": {},
          "execution_count": 26
        }
      ],
      "source": [
        "# RMSE do modelo com LinearRegression\n",
        "linearMSE = mean_squared_error(y_test, linearPredict)\n",
        "float(np.sqrt(linearMSE))"
      ]
    },
    {
      "cell_type": "code",
      "execution_count": 27,
      "metadata": {
        "id": "1lhPg71i_K0T"
      },
      "outputs": [],
      "source": [
        "# Preparando o 2º modelo com DecisionTreeRegressor\n",
        "treeModel = DecisionTreeRegressor()"
      ]
    },
    {
      "cell_type": "code",
      "execution_count": 28,
      "metadata": {
        "id": "O7iuvNNW_K0U"
      },
      "outputs": [],
      "source": [
        "# Treinando o 2º modelo\n",
        "treeTrained = treeModel.fit(X_train, y_train)"
      ]
    },
    {
      "cell_type": "code",
      "execution_count": 29,
      "metadata": {
        "id": "frK0UeTv_K0U"
      },
      "outputs": [],
      "source": [
        "# Testando o 2º modelo\n",
        "treePredict = treeTrained.predict(X_test)"
      ]
    },
    {
      "cell_type": "code",
      "execution_count": 30,
      "metadata": {
        "id": "li023eJc_K0U",
        "colab": {
          "base_uri": "https://localhost:8080/"
        },
        "outputId": "5f5d9fb9-2f52-439e-a098-5b59ac46e19d"
      },
      "outputs": [
        {
          "output_type": "execute_result",
          "data": {
            "text/plain": [
              "1.227453404600401"
            ]
          },
          "metadata": {},
          "execution_count": 30
        }
      ],
      "source": [
        "# RMSE do modelo com DecisionTreeRegressor\n",
        "treeMSE = mean_squared_error(y_test, treePredict)\n",
        "float(np.sqrt(treeMSE))"
      ]
    },
    {
      "cell_type": "code",
      "execution_count": 31,
      "metadata": {
        "id": "gyNV7WZB_K0U"
      },
      "outputs": [],
      "source": [
        "# Preparando o 3º modelo com XGBRegressor\n",
        "xgbModel = XGBRegressor()"
      ]
    },
    {
      "cell_type": "code",
      "execution_count": 32,
      "metadata": {
        "id": "MAIqK9J__K0V"
      },
      "outputs": [],
      "source": [
        "# Treinando o 3º modelo\n",
        "xgbTrained = xgbModel.fit(X_train, y_train)"
      ]
    },
    {
      "cell_type": "code",
      "execution_count": 33,
      "metadata": {
        "id": "9aDg3UQj_K0V"
      },
      "outputs": [],
      "source": [
        "# Testando o 3º modelo\n",
        "xgbPredicit = xgbTrained.predict(X_test)"
      ]
    },
    {
      "cell_type": "code",
      "execution_count": 34,
      "metadata": {
        "id": "ua4q9m4d_K0V",
        "colab": {
          "base_uri": "https://localhost:8080/"
        },
        "outputId": "6b4df34e-6652-4144-af43-e7faf244c2e5"
      },
      "outputs": [
        {
          "output_type": "execute_result",
          "data": {
            "text/plain": [
              "0.8776788130678602"
            ]
          },
          "metadata": {},
          "execution_count": 34
        }
      ],
      "source": [
        "# RMSE do modelo com XGBRegressor\n",
        "xgbMSE = mean_squared_error(y_test, xgbPredicit)\n",
        "float(np.sqrt(xgbMSE))"
      ]
    },
    {
      "cell_type": "markdown",
      "metadata": {
        "id": "hXgAewBl_K0V"
      },
      "source": [
        "O modelo escolhido foi o 3º modelo pois seu RMSE é melhor sendo menor que os outros dois, tendo o valor de 0.8776788130678602.<br>\n",
        "Iremos utilizar o GridSearchCV para otimizar os hiperparametros do modelo.\n",
        "\n",
        "GridSearchCV: https://scikit-learn.org/stable/modules/generated/sklearn.model_selection.GridSearchCV.html"
      ]
    },
    {
      "cell_type": "code",
      "execution_count": 35,
      "metadata": {
        "id": "Fys8oWjt_K0V",
        "colab": {
          "base_uri": "https://localhost:8080/"
        },
        "outputId": "6284698e-a65f-4a0b-b0fd-4d20d782cebb"
      },
      "outputs": [
        {
          "output_type": "execute_result",
          "data": {
            "text/plain": [
              "{'objective': 'reg:squarederror',\n",
              " 'base_score': None,\n",
              " 'booster': None,\n",
              " 'callbacks': None,\n",
              " 'colsample_bylevel': None,\n",
              " 'colsample_bynode': None,\n",
              " 'colsample_bytree': None,\n",
              " 'device': None,\n",
              " 'early_stopping_rounds': None,\n",
              " 'enable_categorical': False,\n",
              " 'eval_metric': None,\n",
              " 'feature_types': None,\n",
              " 'gamma': None,\n",
              " 'grow_policy': None,\n",
              " 'importance_type': None,\n",
              " 'interaction_constraints': None,\n",
              " 'learning_rate': None,\n",
              " 'max_bin': None,\n",
              " 'max_cat_threshold': None,\n",
              " 'max_cat_to_onehot': None,\n",
              " 'max_delta_step': None,\n",
              " 'max_depth': None,\n",
              " 'max_leaves': None,\n",
              " 'min_child_weight': None,\n",
              " 'missing': nan,\n",
              " 'monotone_constraints': None,\n",
              " 'multi_strategy': None,\n",
              " 'n_estimators': None,\n",
              " 'n_jobs': None,\n",
              " 'num_parallel_tree': None,\n",
              " 'random_state': None,\n",
              " 'reg_alpha': None,\n",
              " 'reg_lambda': None,\n",
              " 'sampling_method': None,\n",
              " 'scale_pos_weight': None,\n",
              " 'subsample': None,\n",
              " 'tree_method': None,\n",
              " 'validate_parameters': None,\n",
              " 'verbosity': None}"
            ]
          },
          "metadata": {},
          "execution_count": 35
        }
      ],
      "source": [
        "# Verificando alguns parametros do modelo\n",
        "xgbTrained.get_params()"
      ]
    },
    {
      "cell_type": "code",
      "execution_count": 36,
      "metadata": {
        "id": "74t7FbFd_K0V"
      },
      "outputs": [],
      "source": [
        "# Definindo algumas possibilidades de parametros\n",
        "parameters = {\n",
        "    'colsample_bytree': [0, 1],\n",
        "    'gamma': [0, 1, 2],\n",
        "    'max_delta_step': [0, 1, 2],\n",
        "    'max_depth': [5, 6, 7],\n",
        "    'min_child_weight': [0, 1],\n",
        "    'n_jobs': [5],\n",
        "    'subsample': [0, 1],\n",
        "}"
      ]
    },
    {
      "cell_type": "code",
      "execution_count": 37,
      "metadata": {
        "id": "YD3aK1ZB_K0V"
      },
      "outputs": [],
      "source": [
        "# Repreparando o modelo do XGBRegressor() utilizando GridSearchCV\n",
        "xgbGrid = GridSearchCV(XGBRegressor(), parameters, refit='neg_mean_squared_error', verbose=True)"
      ]
    },
    {
      "cell_type": "code",
      "execution_count": 38,
      "metadata": {
        "id": "3XErfe4b_K0V",
        "colab": {
          "base_uri": "https://localhost:8080/"
        },
        "outputId": "83d684b0-b33e-4247-f61d-378d3f599a43"
      },
      "outputs": [
        {
          "output_type": "stream",
          "name": "stdout",
          "text": [
            "Fitting 5 folds for each of 216 candidates, totalling 1080 fits\n"
          ]
        }
      ],
      "source": [
        "# Verificação e treinamento do modelo com os melhores parâmetros\n",
        "xgbGridModel = xgbGrid.fit(X_train, y_train)"
      ]
    },
    {
      "cell_type": "code",
      "execution_count": 39,
      "metadata": {
        "id": "1Q3n_l9K_K0V",
        "colab": {
          "base_uri": "https://localhost:8080/"
        },
        "outputId": "a9269330-e595-4810-8970-cfae7120d5b0"
      },
      "outputs": [
        {
          "output_type": "execute_result",
          "data": {
            "text/plain": [
              "{'colsample_bytree': 1,\n",
              " 'gamma': 1,\n",
              " 'max_delta_step': 0,\n",
              " 'max_depth': 5,\n",
              " 'min_child_weight': 0,\n",
              " 'n_jobs': 5,\n",
              " 'subsample': 1}"
            ]
          },
          "metadata": {},
          "execution_count": 39
        }
      ],
      "source": [
        "# Observando os melhores parametros\n",
        "xgbGridModel.best_params_"
      ]
    },
    {
      "cell_type": "code",
      "execution_count": 40,
      "metadata": {
        "id": "GP_j8sz4_K0V"
      },
      "outputs": [],
      "source": [
        "# Testando o modelo melhorado\n",
        "yGrid = xgbGridModel.predict(X_test)"
      ]
    },
    {
      "cell_type": "code",
      "execution_count": 41,
      "metadata": {
        "id": "Tvarof_u_K0W",
        "colab": {
          "base_uri": "https://localhost:8080/"
        },
        "outputId": "fa1b043f-353d-428d-bbfd-984a3e71a75f"
      },
      "outputs": [
        {
          "output_type": "execute_result",
          "data": {
            "text/plain": [
              "0.8393664060212284"
            ]
          },
          "metadata": {},
          "execution_count": 41
        }
      ],
      "source": [
        "# O RMSE do modelo melhorado\n",
        "gridMSE = mean_squared_error(y_test, yGrid)\n",
        "float(np.sqrt(gridMSE))"
      ]
    },
    {
      "cell_type": "markdown",
      "metadata": {
        "id": "9X6-zIjZ_K0W"
      },
      "source": [
        "Agora que o modelo está parametrizado faremos algumas predições.<br>\n",
        "Utilizarei um for para combinar valores de 0 a 27 dentro do modelo, e verificar qual a melhor proporção de investimentos nas plataformas, range com base na menor das médias."
      ]
    },
    {
      "cell_type": "code",
      "execution_count": 42,
      "metadata": {
        "id": "qivWTBk2_K0W",
        "colab": {
          "base_uri": "https://localhost:8080/",
          "height": 300
        },
        "outputId": "04ad5ba5-3834-4888-e195-559359dd80aa"
      },
      "outputs": [
        {
          "output_type": "execute_result",
          "data": {
            "text/plain": [
              "          youtube    facebook   newspaper       sales  total_investment\n",
              "count  169.000000  169.000000  169.000000  169.000000        169.000000\n",
              "mean   177.903195   27.431006   34.305799   16.892308        239.640000\n",
              "std    101.414376   17.874627   23.492735    6.268315        110.647786\n",
              "min      0.840000    0.000000    0.360000    1.920000         25.680000\n",
              "25%     91.560000   11.520000   13.200000   12.600000        143.760000\n",
              "50%    179.760000   26.040000   30.720000   15.480000        248.400000\n",
              "75%    262.200000   42.960000   49.680000   20.760000        336.960000\n",
              "max    352.320000   59.520000  101.760000   32.400000        482.880000"
            ],
            "text/html": [
              "\n",
              "  <div id=\"df-bbdae0c0-3ee2-4b69-bbce-0a30e5ccce76\" class=\"colab-df-container\">\n",
              "    <div>\n",
              "<style scoped>\n",
              "    .dataframe tbody tr th:only-of-type {\n",
              "        vertical-align: middle;\n",
              "    }\n",
              "\n",
              "    .dataframe tbody tr th {\n",
              "        vertical-align: top;\n",
              "    }\n",
              "\n",
              "    .dataframe thead th {\n",
              "        text-align: right;\n",
              "    }\n",
              "</style>\n",
              "<table border=\"1\" class=\"dataframe\">\n",
              "  <thead>\n",
              "    <tr style=\"text-align: right;\">\n",
              "      <th></th>\n",
              "      <th>youtube</th>\n",
              "      <th>facebook</th>\n",
              "      <th>newspaper</th>\n",
              "      <th>sales</th>\n",
              "      <th>total_investment</th>\n",
              "    </tr>\n",
              "  </thead>\n",
              "  <tbody>\n",
              "    <tr>\n",
              "      <th>count</th>\n",
              "      <td>169.000000</td>\n",
              "      <td>169.000000</td>\n",
              "      <td>169.000000</td>\n",
              "      <td>169.000000</td>\n",
              "      <td>169.000000</td>\n",
              "    </tr>\n",
              "    <tr>\n",
              "      <th>mean</th>\n",
              "      <td>177.903195</td>\n",
              "      <td>27.431006</td>\n",
              "      <td>34.305799</td>\n",
              "      <td>16.892308</td>\n",
              "      <td>239.640000</td>\n",
              "    </tr>\n",
              "    <tr>\n",
              "      <th>std</th>\n",
              "      <td>101.414376</td>\n",
              "      <td>17.874627</td>\n",
              "      <td>23.492735</td>\n",
              "      <td>6.268315</td>\n",
              "      <td>110.647786</td>\n",
              "    </tr>\n",
              "    <tr>\n",
              "      <th>min</th>\n",
              "      <td>0.840000</td>\n",
              "      <td>0.000000</td>\n",
              "      <td>0.360000</td>\n",
              "      <td>1.920000</td>\n",
              "      <td>25.680000</td>\n",
              "    </tr>\n",
              "    <tr>\n",
              "      <th>25%</th>\n",
              "      <td>91.560000</td>\n",
              "      <td>11.520000</td>\n",
              "      <td>13.200000</td>\n",
              "      <td>12.600000</td>\n",
              "      <td>143.760000</td>\n",
              "    </tr>\n",
              "    <tr>\n",
              "      <th>50%</th>\n",
              "      <td>179.760000</td>\n",
              "      <td>26.040000</td>\n",
              "      <td>30.720000</td>\n",
              "      <td>15.480000</td>\n",
              "      <td>248.400000</td>\n",
              "    </tr>\n",
              "    <tr>\n",
              "      <th>75%</th>\n",
              "      <td>262.200000</td>\n",
              "      <td>42.960000</td>\n",
              "      <td>49.680000</td>\n",
              "      <td>20.760000</td>\n",
              "      <td>336.960000</td>\n",
              "    </tr>\n",
              "    <tr>\n",
              "      <th>max</th>\n",
              "      <td>352.320000</td>\n",
              "      <td>59.520000</td>\n",
              "      <td>101.760000</td>\n",
              "      <td>32.400000</td>\n",
              "      <td>482.880000</td>\n",
              "    </tr>\n",
              "  </tbody>\n",
              "</table>\n",
              "</div>\n",
              "    <div class=\"colab-df-buttons\">\n",
              "\n",
              "  <div class=\"colab-df-container\">\n",
              "    <button class=\"colab-df-convert\" onclick=\"convertToInteractive('df-bbdae0c0-3ee2-4b69-bbce-0a30e5ccce76')\"\n",
              "            title=\"Convert this dataframe to an interactive table.\"\n",
              "            style=\"display:none;\">\n",
              "\n",
              "  <svg xmlns=\"http://www.w3.org/2000/svg\" height=\"24px\" viewBox=\"0 -960 960 960\">\n",
              "    <path d=\"M120-120v-720h720v720H120Zm60-500h600v-160H180v160Zm220 220h160v-160H400v160Zm0 220h160v-160H400v160ZM180-400h160v-160H180v160Zm440 0h160v-160H620v160ZM180-180h160v-160H180v160Zm440 0h160v-160H620v160Z\"/>\n",
              "  </svg>\n",
              "    </button>\n",
              "\n",
              "  <style>\n",
              "    .colab-df-container {\n",
              "      display:flex;\n",
              "      gap: 12px;\n",
              "    }\n",
              "\n",
              "    .colab-df-convert {\n",
              "      background-color: #E8F0FE;\n",
              "      border: none;\n",
              "      border-radius: 50%;\n",
              "      cursor: pointer;\n",
              "      display: none;\n",
              "      fill: #1967D2;\n",
              "      height: 32px;\n",
              "      padding: 0 0 0 0;\n",
              "      width: 32px;\n",
              "    }\n",
              "\n",
              "    .colab-df-convert:hover {\n",
              "      background-color: #E2EBFA;\n",
              "      box-shadow: 0px 1px 2px rgba(60, 64, 67, 0.3), 0px 1px 3px 1px rgba(60, 64, 67, 0.15);\n",
              "      fill: #174EA6;\n",
              "    }\n",
              "\n",
              "    .colab-df-buttons div {\n",
              "      margin-bottom: 4px;\n",
              "    }\n",
              "\n",
              "    [theme=dark] .colab-df-convert {\n",
              "      background-color: #3B4455;\n",
              "      fill: #D2E3FC;\n",
              "    }\n",
              "\n",
              "    [theme=dark] .colab-df-convert:hover {\n",
              "      background-color: #434B5C;\n",
              "      box-shadow: 0px 1px 3px 1px rgba(0, 0, 0, 0.15);\n",
              "      filter: drop-shadow(0px 1px 2px rgba(0, 0, 0, 0.3));\n",
              "      fill: #FFFFFF;\n",
              "    }\n",
              "  </style>\n",
              "\n",
              "    <script>\n",
              "      const buttonEl =\n",
              "        document.querySelector('#df-bbdae0c0-3ee2-4b69-bbce-0a30e5ccce76 button.colab-df-convert');\n",
              "      buttonEl.style.display =\n",
              "        google.colab.kernel.accessAllowed ? 'block' : 'none';\n",
              "\n",
              "      async function convertToInteractive(key) {\n",
              "        const element = document.querySelector('#df-bbdae0c0-3ee2-4b69-bbce-0a30e5ccce76');\n",
              "        const dataTable =\n",
              "          await google.colab.kernel.invokeFunction('convertToInteractive',\n",
              "                                                    [key], {});\n",
              "        if (!dataTable) return;\n",
              "\n",
              "        const docLinkHtml = 'Like what you see? Visit the ' +\n",
              "          '<a target=\"_blank\" href=https://colab.research.google.com/notebooks/data_table.ipynb>data table notebook</a>'\n",
              "          + ' to learn more about interactive tables.';\n",
              "        element.innerHTML = '';\n",
              "        dataTable['output_type'] = 'display_data';\n",
              "        await google.colab.output.renderOutput(dataTable, element);\n",
              "        const docLink = document.createElement('div');\n",
              "        docLink.innerHTML = docLinkHtml;\n",
              "        element.appendChild(docLink);\n",
              "      }\n",
              "    </script>\n",
              "  </div>\n",
              "\n",
              "\n",
              "<div id=\"df-40d029cd-fbb0-42dd-aa97-6a923e95caae\">\n",
              "  <button class=\"colab-df-quickchart\" onclick=\"quickchart('df-40d029cd-fbb0-42dd-aa97-6a923e95caae')\"\n",
              "            title=\"Suggest charts\"\n",
              "            style=\"display:none;\">\n",
              "\n",
              "<svg xmlns=\"http://www.w3.org/2000/svg\" height=\"24px\"viewBox=\"0 0 24 24\"\n",
              "     width=\"24px\">\n",
              "    <g>\n",
              "        <path d=\"M19 3H5c-1.1 0-2 .9-2 2v14c0 1.1.9 2 2 2h14c1.1 0 2-.9 2-2V5c0-1.1-.9-2-2-2zM9 17H7v-7h2v7zm4 0h-2V7h2v10zm4 0h-2v-4h2v4z\"/>\n",
              "    </g>\n",
              "</svg>\n",
              "  </button>\n",
              "\n",
              "<style>\n",
              "  .colab-df-quickchart {\n",
              "      --bg-color: #E8F0FE;\n",
              "      --fill-color: #1967D2;\n",
              "      --hover-bg-color: #E2EBFA;\n",
              "      --hover-fill-color: #174EA6;\n",
              "      --disabled-fill-color: #AAA;\n",
              "      --disabled-bg-color: #DDD;\n",
              "  }\n",
              "\n",
              "  [theme=dark] .colab-df-quickchart {\n",
              "      --bg-color: #3B4455;\n",
              "      --fill-color: #D2E3FC;\n",
              "      --hover-bg-color: #434B5C;\n",
              "      --hover-fill-color: #FFFFFF;\n",
              "      --disabled-bg-color: #3B4455;\n",
              "      --disabled-fill-color: #666;\n",
              "  }\n",
              "\n",
              "  .colab-df-quickchart {\n",
              "    background-color: var(--bg-color);\n",
              "    border: none;\n",
              "    border-radius: 50%;\n",
              "    cursor: pointer;\n",
              "    display: none;\n",
              "    fill: var(--fill-color);\n",
              "    height: 32px;\n",
              "    padding: 0;\n",
              "    width: 32px;\n",
              "  }\n",
              "\n",
              "  .colab-df-quickchart:hover {\n",
              "    background-color: var(--hover-bg-color);\n",
              "    box-shadow: 0 1px 2px rgba(60, 64, 67, 0.3), 0 1px 3px 1px rgba(60, 64, 67, 0.15);\n",
              "    fill: var(--button-hover-fill-color);\n",
              "  }\n",
              "\n",
              "  .colab-df-quickchart-complete:disabled,\n",
              "  .colab-df-quickchart-complete:disabled:hover {\n",
              "    background-color: var(--disabled-bg-color);\n",
              "    fill: var(--disabled-fill-color);\n",
              "    box-shadow: none;\n",
              "  }\n",
              "\n",
              "  .colab-df-spinner {\n",
              "    border: 2px solid var(--fill-color);\n",
              "    border-color: transparent;\n",
              "    border-bottom-color: var(--fill-color);\n",
              "    animation:\n",
              "      spin 1s steps(1) infinite;\n",
              "  }\n",
              "\n",
              "  @keyframes spin {\n",
              "    0% {\n",
              "      border-color: transparent;\n",
              "      border-bottom-color: var(--fill-color);\n",
              "      border-left-color: var(--fill-color);\n",
              "    }\n",
              "    20% {\n",
              "      border-color: transparent;\n",
              "      border-left-color: var(--fill-color);\n",
              "      border-top-color: var(--fill-color);\n",
              "    }\n",
              "    30% {\n",
              "      border-color: transparent;\n",
              "      border-left-color: var(--fill-color);\n",
              "      border-top-color: var(--fill-color);\n",
              "      border-right-color: var(--fill-color);\n",
              "    }\n",
              "    40% {\n",
              "      border-color: transparent;\n",
              "      border-right-color: var(--fill-color);\n",
              "      border-top-color: var(--fill-color);\n",
              "    }\n",
              "    60% {\n",
              "      border-color: transparent;\n",
              "      border-right-color: var(--fill-color);\n",
              "    }\n",
              "    80% {\n",
              "      border-color: transparent;\n",
              "      border-right-color: var(--fill-color);\n",
              "      border-bottom-color: var(--fill-color);\n",
              "    }\n",
              "    90% {\n",
              "      border-color: transparent;\n",
              "      border-bottom-color: var(--fill-color);\n",
              "    }\n",
              "  }\n",
              "</style>\n",
              "\n",
              "  <script>\n",
              "    async function quickchart(key) {\n",
              "      const quickchartButtonEl =\n",
              "        document.querySelector('#' + key + ' button');\n",
              "      quickchartButtonEl.disabled = true;  // To prevent multiple clicks.\n",
              "      quickchartButtonEl.classList.add('colab-df-spinner');\n",
              "      try {\n",
              "        const charts = await google.colab.kernel.invokeFunction(\n",
              "            'suggestCharts', [key], {});\n",
              "      } catch (error) {\n",
              "        console.error('Error during call to suggestCharts:', error);\n",
              "      }\n",
              "      quickchartButtonEl.classList.remove('colab-df-spinner');\n",
              "      quickchartButtonEl.classList.add('colab-df-quickchart-complete');\n",
              "    }\n",
              "    (() => {\n",
              "      let quickchartButtonEl =\n",
              "        document.querySelector('#df-40d029cd-fbb0-42dd-aa97-6a923e95caae button');\n",
              "      quickchartButtonEl.style.display =\n",
              "        google.colab.kernel.accessAllowed ? 'block' : 'none';\n",
              "    })();\n",
              "  </script>\n",
              "</div>\n",
              "\n",
              "    </div>\n",
              "  </div>\n"
            ],
            "application/vnd.google.colaboratory.intrinsic+json": {
              "type": "dataframe",
              "summary": "{\n  \"name\": \"df\",\n  \"rows\": 8,\n  \"fields\": [\n    {\n      \"column\": \"youtube\",\n      \"properties\": {\n        \"dtype\": \"number\",\n        \"std\": 107.76557052156083,\n        \"min\": 0.84,\n        \"max\": 352.32,\n        \"num_unique_values\": 8,\n        \"samples\": [\n          177.90319526627218,\n          179.76,\n          169.0\n        ],\n        \"semantic_type\": \"\",\n        \"description\": \"\"\n      }\n    },\n    {\n      \"column\": \"facebook\",\n      \"properties\": {\n        \"dtype\": \"number\",\n        \"std\": 53.634800691479946,\n        \"min\": 0.0,\n        \"max\": 169.0,\n        \"num_unique_values\": 8,\n        \"samples\": [\n          27.431005917159766,\n          26.04,\n          169.0\n        ],\n        \"semantic_type\": \"\",\n        \"description\": \"\"\n      }\n    },\n    {\n      \"column\": \"newspaper\",\n      \"properties\": {\n        \"dtype\": \"number\",\n        \"std\": 55.953865567635134,\n        \"min\": 0.36,\n        \"max\": 169.0,\n        \"num_unique_values\": 8,\n        \"samples\": [\n          34.30579881656805,\n          30.72,\n          169.0\n        ],\n        \"semantic_type\": \"\",\n        \"description\": \"\"\n      }\n    },\n    {\n      \"column\": \"sales\",\n      \"properties\": {\n        \"dtype\": \"number\",\n        \"std\": 55.15339075049064,\n        \"min\": 1.92,\n        \"max\": 169.0,\n        \"num_unique_values\": 8,\n        \"samples\": [\n          16.89230769230769,\n          15.48,\n          169.0\n        ],\n        \"semantic_type\": \"\",\n        \"description\": \"\"\n      }\n    },\n    {\n      \"column\": \"total_investment\",\n      \"properties\": {\n        \"dtype\": \"number\",\n        \"std\": 142.48227113007408,\n        \"min\": 25.68,\n        \"max\": 482.88,\n        \"num_unique_values\": 8,\n        \"samples\": [\n          239.64000000000001,\n          248.4,\n          169.0\n        ],\n        \"semantic_type\": \"\",\n        \"description\": \"\"\n      }\n    }\n  ]\n}"
            }
          },
          "metadata": {},
          "execution_count": 42
        }
      ],
      "source": [
        "df.describe()"
      ]
    },
    {
      "cell_type": "code",
      "execution_count": 43,
      "metadata": {
        "id": "ypFi49ea_K0W"
      },
      "outputs": [],
      "source": [
        "# Definindo uma variavel para receber o melhor valor\n",
        "best_return = 0\n",
        "best_invest = []"
      ]
    },
    {
      "cell_type": "code",
      "execution_count": 44,
      "metadata": {
        "id": "6J_OSJLQ_K0W"
      },
      "outputs": [],
      "source": [
        "# Verificando varias combinações para prever os melhores investimentos\n",
        "for youtube in range(0, 28):\n",
        "    for newspaper in range(0, 28):\n",
        "        for facebook in range(0, 28):\n",
        "            data_test = [[youtube, facebook, newspaper]]\n",
        "            sales = float(xgbGridModel.predict(data_test)[0])\n",
        "\n",
        "            if sales > best_return:\n",
        "                best_return = sales\n",
        "                best_invest.append(data_test[0])"
      ]
    },
    {
      "cell_type": "code",
      "execution_count": 45,
      "metadata": {
        "id": "lJ9TnBMX_K0W",
        "colab": {
          "base_uri": "https://localhost:8080/"
        },
        "outputId": "dfb38006-60d4-4c49-cb50-da2d104fef5f"
      },
      "outputs": [
        {
          "output_type": "stream",
          "name": "stdout",
          "text": [
            "youtube      14.227273\n",
            "facebook     12.454545\n",
            "newspaper     0.000000\n",
            "dtype: float64\n",
            "[24, 27, 0]\n"
          ]
        }
      ],
      "source": [
        "# A média dos investimentos e os invesstimentos do maior retorno verificado\n",
        "print(pd.DataFrame(best_invest, columns=[['youtube', 'facebook', 'newspaper']]).mean())\n",
        "print(best_invest[-1])"
      ]
    },
    {
      "cell_type": "markdown",
      "metadata": {
        "id": "dvxiQrTW_K0X"
      },
      "source": [
        "Diferente da hipótese inicial percebemos que o melhor investimento é o Youtube, mas o investivento no Facebook tem um crescimento rapido no retorno.<br>\n",
        "O melhor cénario para essa empresa seria colocar os maiores investimentos no Youtube, mas aumentar os investimentos no facebook tambem.<br>\n",
        "O investimento no jornal não tem grande retorno, dessa forma seus investimentos deveriam ser redirecionados para as outras plataformas."
      ]
    }
  ],
  "metadata": {
    "kernelspec": {
      "display_name": "Python 3",
      "language": "python",
      "name": "python3"
    },
    "language_info": {
      "codemirror_mode": {
        "name": "ipython",
        "version": 3
      },
      "file_extension": ".py",
      "mimetype": "text/x-python",
      "name": "python",
      "nbconvert_exporter": "python",
      "pygments_lexer": "ipython3",
      "version": "3.10.12"
    },
    "colab": {
      "provenance": []
    }
  },
  "nbformat": 4,
  "nbformat_minor": 0
}